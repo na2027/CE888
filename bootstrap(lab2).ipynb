{
  "nbformat": 4,
  "nbformat_minor": 0,
  "metadata": {
    "colab": {
      "name": "bootstrap(lab2).ipynb",
      "provenance": [],
      "include_colab_link": true
    },
    "kernelspec": {
      "display_name": "Python 3",
      "language": "python",
      "name": "python3"
    },
    "language_info": {
      "codemirror_mode": {
        "name": "ipython",
        "version": 3
      },
      "file_extension": ".py",
      "mimetype": "text/x-python",
      "name": "python",
      "nbconvert_exporter": "python",
      "pygments_lexer": "ipython3",
      "version": "3.7.6"
    },
    "pycharm": {
      "stem_cell": {
        "cell_type": "raw",
        "metadata": {
          "collapsed": false
        },
        "source": []
      }
    }
  },
  "cells": [
    {
      "cell_type": "markdown",
      "metadata": {
        "id": "view-in-github",
        "colab_type": "text"
      },
      "source": [
        "<a href=\"https://colab.research.google.com/github/na2027/CE888/blob/main/bootstrap(lab2).ipynb\" target=\"_parent\"><img src=\"https://colab.research.google.com/assets/colab-badge.svg\" alt=\"Open In Colab\"/></a>"
      ]
    },
    {
      "cell_type": "markdown",
      "metadata": {
        "id": "nCi_99yMYIb1"
      },
      "source": [
        "In this notebook you'll create your own bootstrap function following the bootstrap algorithm (check the lecture notes!)"
      ]
    },
    {
      "cell_type": "code",
      "metadata": {
        "id": "LY5zujI2YC37",
        "pycharm": {
          "name": "#%%# Imports\n"
        }
      },
      "source": [
        "import matplotlib\n",
        "import pandas as pd\n",
        "import seaborn as sns\n",
        "import numpy as np\n",
        "\n"
      ],
      "execution_count": 1,
      "outputs": []
    },
    {
      "cell_type": "code",
      "metadata": {
        "id": "Eqkwj4SMY38t",
        "colab": {
          "base_uri": "https://localhost:8080/"
        },
        "outputId": "47a23624-10d6-4665-819a-c181ce7252fb"
      },
      "source": [
        "# Load the data\n",
        "df = pd.read_csv('https://raw.githubusercontent.com/albanda/CE888/master/lab2%20-%20bootstrap/customers.csv')\n",
        "data = df.values.T[1]\n",
        "data"
      ],
      "execution_count": 2,
      "outputs": [
        {
          "output_type": "execute_result",
          "data": {
            "text/plain": [
              "array([ 2.,  8., 20., 13.,  5.,  9., 10.,  8., 22., 10.,  2.,  4.,  7.,\n",
              "        9.])"
            ]
          },
          "metadata": {
            "tags": []
          },
          "execution_count": 2
        }
      ]
    },
    {
      "cell_type": "code",
      "metadata": {
        "id": "Gxvc_bScYC4H",
        "pycharm": {
          "name": "#%%\n"
        }
      },
      "source": [
        "# Checking the notes from the lecture, create here your own bootstrap function:\n",
        "# 1. Sample from the input array x to create an array of samples of shape (n_bootstraps, sample_size)\n",
        "# Hint: Check the function random.choice() on Numpy\n",
        "# 2. Calculate and save the mean of the array (this is \"data_mean\" that is returned by the function)\n",
        "# 3. Calculate the mean from each bootstrap (i.e., row) and store it.\n",
        "# (This should be an array of n_bootstraps values)\n",
        "# 4. Calculate the lower and upper bounds for a 95% CI (hint: check the percentile function on Numpy)\n",
        "# 5. Return data_mean, and the lower and upper bounds of your interval\n",
        "def bootstrap_avg(sample, sample_size, n_bootstraps):\n",
        "  samples = np.zeros((n_bootstraps, sample_size))\n",
        "  for i in range(n_bootstraps):\n",
        "    samples[i, :] = np.random.choice(sample, (sample_size), replace=True)\n",
        "  data_mean = np.mean(samples)\n",
        "  samples_avg = np.mean(samples, axis=1)\n",
        "  lower_bound = np.percentile(samples_avg, 2.5)\n",
        "  upper_bound = np.percentile(samples_avg, 97.5)\n",
        "  return data_mean, lower_bound, upper_bound"
      ],
      "execution_count": 3,
      "outputs": []
    },
    {
      "cell_type": "code",
      "metadata": {
        "id": "AN7sEOcMYC4P",
        "pycharm": {
          "name": "#%%\n"
        },
        "colab": {
          "base_uri": "https://localhost:8080/",
          "height": 453
        },
        "outputId": "b32d9aa3-b591-4543-9c92-65216fd62e78"
      },
      "source": [
        "# Call your bootstrap function and plot the results\n",
        "\n",
        "boots_lst = []\n",
        "for i in range(100, 30000, 700):\n",
        "    boot = bootstrap_avg(data, data.shape[0], i)\n",
        "    boots_lst.append([i, boot[0], \"mean\"])\n",
        "    boots_lst.append([i, boot[1], \"lower bound\"])\n",
        "    boots_lst.append([i, boot[2], \"upper bound\"])\n",
        "\n",
        "df_boot = pd.DataFrame(boots_lst, columns=['Bootstrap Iterations', 'Mean', \"Value\"])\n",
        "sns_plot = sns.lmplot(df_boot.columns[0], df_boot.columns[1], data=df_boot, fit_reg=False, hue=\"Value\")\n",
        "\n",
        "sns_plot.axes[0, 0].set_ylim(0,)\n",
        "sns_plot.axes[0, 0].set_xlim(0, 30000)\n"
      ],
      "execution_count": 4,
      "outputs": [
        {
          "output_type": "stream",
          "text": [
            "/usr/local/lib/python3.7/dist-packages/seaborn/_decorators.py:43: FutureWarning: Pass the following variables as keyword args: x, y. From version 0.12, the only valid positional argument will be `data`, and passing other arguments without an explicit keyword will result in an error or misinterpretation.\n",
            "  FutureWarning\n"
          ],
          "name": "stderr"
        },
        {
          "output_type": "execute_result",
          "data": {
            "text/plain": [
              "(0.0, 30000.0)"
            ]
          },
          "metadata": {
            "tags": []
          },
          "execution_count": 4
        },
        {
          "output_type": "display_data",
          "data": {
            "image/png": "[encoded data removed]",
            "text/plain": [
              "<Figure size 459.625x360 with 1 Axes>"
            ]
          },
          "metadata": {
            "tags": [],
            "needs_background": "light"
          }
        }
      ]
    },
    {
      "cell_type": "markdown",
      "metadata": {
        "id": "MjtP4e2_YC4V"
      },
      "source": [
        "\n",
        "Now, modify the bootstrap function you created above so that you can pass your desired confidence interval as a parameter.\n",
        "\n"
      ]
    },
    {
      "cell_type": "code",
      "metadata": {
        "id": "3K9j0FuGYhHs"
      },
      "source": [
        "def bootstrap_avg_ci(sample, sample_size, n_bootstraps, ci):\n",
        "  samples = np.zeros((n_bootstraps, sample_size))\n",
        "  for i in range(n_bootstraps):\n",
        "    samples[i, :] = np.random.choice(sample, (sample_size), replace=True)\n",
        "  data_mean = np.mean(samples)\n",
        "  shift = (100 - ci) / 2.0\n",
        "  samples_means = np.mean(samples, axis=1)\n",
        "  lower_bound = np.percentile(samples_means, shift)\n",
        "  upper_bound = np.percentile(samples_means, 100 - shift)\n",
        "  return data_mean, lower_bound, upper_bound"
      ],
      "execution_count": 5,
      "outputs": []
    },
    {
      "cell_type": "code",
      "metadata": {
        "id": "uDnjq08GYl-C",
        "colab": {
          "base_uri": "https://localhost:8080/",
          "height": 453
        },
        "outputId": "f5fb5cd7-faf6-438c-c5a5-72718da0153a"
      },
      "source": [
        "boots_lst = []\n",
        "for i in range(100, 30000, 700):\n",
        "    boot = bootstrap_avg_ci(data, data.shape[0], i, 80)\n",
        "    boots_lst.append([i, boot[0], \"mean\"])\n",
        "    boots_lst.append([i, boot[1], \"lower bound\"])\n",
        "    boots_lst.append([i, boot[2], \"upper bound\"])\n",
        "\n",
        "df_boot = pd.DataFrame(boots_lst, columns=['Boostrap Iterations', 'Mean', \"Value\"])\n",
        "sns_plot = sns.lmplot(df_boot.columns[0], df_boot.columns[1], data=df_boot, fit_reg=False, hue=\"Value\")\n",
        "\n",
        "sns_plot.axes[0, 0].set_ylim(0,)\n",
        "sns_plot.axes[0, 0].set_xlim(0, 30000)\n",
        "\n",
        "#sns_plot.savefig(\"bootstrap_confidence_80.pdf\", bbox_inches='tight')\n"
      ],
      "execution_count": 7,
      "outputs": [
        {
          "output_type": "stream",
          "text": [
            "/usr/local/lib/python3.7/dist-packages/seaborn/_decorators.py:43: FutureWarning: Pass the following variables as keyword args: x, y. From version 0.12, the only valid positional argument will be `data`, and passing other arguments without an explicit keyword will result in an error or misinterpretation.\n",
            "  FutureWarning\n"
          ],
          "name": "stderr"
        },
        {
          "output_type": "execute_result",
          "data": {
            "text/plain": [
              "(0.0, 30000.0)"
            ]
          },
          "metadata": {
            "tags": []
          },
          "execution_count": 7
        },
        {
          "output_type": "display_data",
          "data": {
            "image/png": "[encoded data removed]",
            "text/plain": [
              "<Figure size 459.625x360 with 1 Axes>"
            ]
          },
          "metadata": {
            "tags": [],
            "needs_background": "light"
          }
        }
      ]
    },
    {
      "cell_type": "markdown",
      "metadata": {
        "id": "qjNgXW6wdd7r"
      },
      "source": [
        "# Vehicles dataset\n",
        "\n",
        "Now let's work on a different dataset, which is stored in the vehicles.csv file.\n"
      ]
    },
    {
      "cell_type": "code",
      "metadata": {
        "id": "avWv4ipFdpka"
      },
      "source": [
        "# Load and visualise the vehicles dataset\n",
        "# To load the dataset: https://neptune.ai/blog/google-colab-dealing-with-files (check section \"Load individual files directly from GitHub\")\n",
        "\n",
        "\n",
        "# Note that the current and new fleets are in different columns and have different lengths, so bear this in mind when you're plotting.\n",
        "# You can create separate scatterplots for the two fleets, as you would with the histograms, \n",
        "# or plot them both in one plot (but not one against the other).\n",
        "# <---INSERT YOUR CODE HERE--->\n",
        "# Note: you can add more cells as needed to organise your code and your plots\n"
      ],
      "execution_count": 8,
      "outputs": []
    },
    {
      "cell_type": "code",
      "metadata": {
        "id": "OBQG5gmUP3n9"
      },
      "source": [
        "df_vehicle = pd.read_csv('https://raw.githubusercontent.com/albanda/CE888/master/lab2%20-%20bootstrap/vehicles.csv')\n",
        "\n",
        "current_fleet = df_vehicle['Current fleet']\n",
        "new_fleet = df_vehicle['New Fleet']\n",
        "new_fleet = new_fleet[~np.isnan(new_fleet)]"
      ],
      "execution_count": 39,
      "outputs": []
    },
    {
      "cell_type": "code",
      "metadata": {
        "id": "r3zAaBdg58gb",
        "outputId": "246dbcf0-b1a0-4a15-b9e5-08c3f4c060f9",
        "colab": {
          "base_uri": "https://localhost:8080/",
          "height": 195
        }
      },
      "source": [
        "df_vehicle.head()"
      ],
      "execution_count": 40,
      "outputs": [
        {
          "output_type": "execute_result",
          "data": {
            "text/html": [
              "<div>\n",
              "<style scoped>\n",
              "    .dataframe tbody tr th:only-of-type {\n",
              "        vertical-align: middle;\n",
              "    }\n",
              "\n",
              "    .dataframe tbody tr th {\n",
              "        vertical-align: top;\n",
              "    }\n",
              "\n",
              "    .dataframe thead th {\n",
              "        text-align: right;\n",
              "    }\n",
              "</style>\n",
              "<table border=\"1\" class=\"dataframe\">\n",
              "  <thead>\n",
              "    <tr style=\"text-align: right;\">\n",
              "      <th></th>\n",
              "      <th>Current fleet</th>\n",
              "      <th>New Fleet</th>\n",
              "    </tr>\n",
              "  </thead>\n",
              "  <tbody>\n",
              "    <tr>\n",
              "      <th>0</th>\n",
              "      <td>18</td>\n",
              "      <td>24.0</td>\n",
              "    </tr>\n",
              "    <tr>\n",
              "      <th>1</th>\n",
              "      <td>15</td>\n",
              "      <td>27.0</td>\n",
              "    </tr>\n",
              "    <tr>\n",
              "      <th>2</th>\n",
              "      <td>18</td>\n",
              "      <td>27.0</td>\n",
              "    </tr>\n",
              "    <tr>\n",
              "      <th>3</th>\n",
              "      <td>16</td>\n",
              "      <td>25.0</td>\n",
              "    </tr>\n",
              "    <tr>\n",
              "      <th>4</th>\n",
              "      <td>17</td>\n",
              "      <td>31.0</td>\n",
              "    </tr>\n",
              "  </tbody>\n",
              "</table>\n",
              "</div>"
            ],
            "text/plain": [
              "   Current fleet  New Fleet\n",
              "0             18       24.0\n",
              "1             15       27.0\n",
              "2             18       27.0\n",
              "3             16       25.0\n",
              "4             17       31.0"
            ]
          },
          "metadata": {
            "tags": []
          },
          "execution_count": 40
        }
      ]
    },
    {
      "cell_type": "code",
      "metadata": {
        "colab": {
          "base_uri": "https://localhost:8080/",
          "height": 312
        },
        "id": "OmlKzYBuRh-7",
        "outputId": "77935924-73bf-436d-ad4b-67b69d628fb7"
      },
      "source": [
        "import matplotlib.pyplot as plt\n",
        "plt.scatter(range(len(current_fleet)), current_fleet, label='Current Fleet')\n",
        "plt.scatter(range(len(new_fleet)), new_fleet, label='New Fleet')\n",
        "plt.xlabel('Car ID')\n",
        "plt.ylabel('MPG')\n",
        "plt.title('MPG in Car Fleets')\n",
        "plt.legend()"
      ],
      "execution_count": 12,
      "outputs": [
        {
          "output_type": "execute_result",
          "data": {
            "text/plain": [
              "<matplotlib.legend.Legend at 0x7f6ea74cdbd0>"
            ]
          },
          "metadata": {
            "tags": []
          },
          "execution_count": 12
        },
        {
          "output_type": "display_data",
          "data": {
            "image/png": "[encoded data removed]",
            "text/plain": [
              "<Figure size 432x288 with 1 Axes>"
            ]
          },
          "metadata": {
            "tags": [],
            "needs_background": "light"
          }
        }
      ]
    },
    {
      "cell_type": "code",
      "metadata": {
        "colab": {
          "base_uri": "https://localhost:8080/",
          "height": 399
        },
        "id": "jesm0T79SjwQ",
        "outputId": "68dbb7fe-49b2-4295-ff9a-64a1de38889a"
      },
      "source": [
        "sns.distplot(current_fleet, bins=30, kde=False, rug=True, axlabel='MPG').set_title('Histogram of Current Fleat')"
      ],
      "execution_count": 13,
      "outputs": [
        {
          "output_type": "stream",
          "text": [
            "/usr/local/lib/python3.7/dist-packages/seaborn/distributions.py:2557: FutureWarning: `distplot` is a deprecated function and will be removed in a future version. Please adapt your code to use either `displot` (a figure-level function with similar flexibility) or `histplot` (an axes-level function for histograms).\n",
            "  warnings.warn(msg, FutureWarning)\n",
            "/usr/local/lib/python3.7/dist-packages/seaborn/distributions.py:2056: FutureWarning: The `axis` variable is no longer used and will be removed. Instead, assign variables directly to `x` or `y`.\n",
            "  warnings.warn(msg, FutureWarning)\n"
          ],
          "name": "stderr"
        },
        {
          "output_type": "execute_result",
          "data": {
            "text/plain": [
              "Text(0.5, 1.0, 'Histogram of Current Fleat')"
            ]
          },
          "metadata": {
            "tags": []
          },
          "execution_count": 13
        },
        {
          "output_type": "display_data",
          "data": {
            "image/png": "[encoded data removed]",
            "text/plain": [
              "<Figure size 432x288 with 1 Axes>"
            ]
          },
          "metadata": {
            "tags": [],
            "needs_background": "light"
          }
        }
      ]
    },
    {
      "cell_type": "code",
      "metadata": {
        "colab": {
          "base_uri": "https://localhost:8080/",
          "height": 399
        },
        "id": "YMO1pYmYSk6W",
        "outputId": "6212058e-9998-48e7-98e7-1d6b27ae81dd"
      },
      "source": [
        "sns.distplot(new_fleet, bins=30, kde=False, rug=True, axlabel='MPG').set_title('Histogram of New Fleat')"
      ],
      "execution_count": 14,
      "outputs": [
        {
          "output_type": "stream",
          "text": [
            "/usr/local/lib/python3.7/dist-packages/seaborn/distributions.py:2557: FutureWarning: `distplot` is a deprecated function and will be removed in a future version. Please adapt your code to use either `displot` (a figure-level function with similar flexibility) or `histplot` (an axes-level function for histograms).\n",
            "  warnings.warn(msg, FutureWarning)\n",
            "/usr/local/lib/python3.7/dist-packages/seaborn/distributions.py:2056: FutureWarning: The `axis` variable is no longer used and will be removed. Instead, assign variables directly to `x` or `y`.\n",
            "  warnings.warn(msg, FutureWarning)\n"
          ],
          "name": "stderr"
        },
        {
          "output_type": "execute_result",
          "data": {
            "text/plain": [
              "Text(0.5, 1.0, 'Histogram of New Fleat')"
            ]
          },
          "metadata": {
            "tags": []
          },
          "execution_count": 14
        },
        {
          "output_type": "display_data",
          "data": {
            "image/png": "[encoded data removed]",
            "text/plain": [
              "<Figure size 432x288 with 1 Axes>"
            ]
          },
          "metadata": {
            "tags": [],
            "needs_background": "light"
          }
        }
      ]
    },
    {
      "cell_type": "markdown",
      "metadata": {
        "id": "B5d0tXDpIEj8"
      },
      "source": [
        "## Compare the two fleets\n",
        "\n",
        "The business analysts come up a comparison algorithm that requires the upper and lower bounds for the mean in order to say which fleet is better.\n",
        "1. Calculate the mean of both samples.\n",
        "2. Using the bootstrap function that you created:\n",
        "    - Construct the 95% CI of the mean of the current fleet.\n",
        "    - Construct the 95% CI of the mean of the new fleet.\n",
        "    - Are they comparable? (i.e., is one better than the other?) -- you can do this with a permutation test (check the lecture notes!)"
      ]
    },
    {
      "cell_type": "code",
      "metadata": {
        "id": "81F-cEu_RgCC"
      },
      "source": [
        "mean_current, lower_current_fleet, upper_current_fleet = bootstrap_avg_ci(current_fleet, current_fleet.shape[0], 10000, 95)\n",
        "mean_new, lower_new_fleet, upper_new_fleet = bootstrap_avg_ci(new_fleet, new_fleet.shape[0], 10000, 95)"
      ],
      "execution_count": null,
      "outputs": []
    },
    {
      "cell_type": "code",
      "metadata": {
        "id": "wKPqLGkr5wq8"
      },
      "source": [
        "df."
      ],
      "execution_count": null,
      "outputs": []
    },
    {
      "cell_type": "code",
      "metadata": {
        "id": "po4mp6zRHC0m",
        "colab": {
          "base_uri": "https://localhost:8080/"
        },
        "outputId": "64cda7f1-247d-4b2b-8e47-a36e8270b088"
      },
      "source": [
        "print('Current Fleat:')\n",
        "print('  Mean:', mean_current)\n",
        "print('  Lower Mean (95% CI):', lower_current_fleet)\n",
        "print('  Upper Mean (95% CI):', upper_current_fleet)\n",
        "print()\n",
        "print('New Fleat:')\n",
        "print('  Mean:', mean_new)\n",
        "print('  Lower Mean (95% CI):', lower_new_fleet)\n",
        "print('  Upper Mean (95% CI):', upper_new_fleet)\n"
      ],
      "execution_count": null,
      "outputs": [
        {
          "output_type": "stream",
          "text": [
            "Current Fleat:\n",
            "  Mean: 20.152920883534136\n",
            "  Lower Mean (95% CI): 19.36144578313253\n",
            "  Upper Mean (95% CI): 20.955823293172692\n",
            "\n",
            "New Fleat:\n",
            "  Mean: 30.482843037974682\n",
            "  Lower Mean (95% CI): 29.164556962025316\n",
            "  Upper Mean (95% CI): 31.835443037974684\n"
          ],
          "name": "stdout"
        }
      ]
    },
    {
      "cell_type": "code",
      "metadata": {
        "id": "mbhwdRYhwESa"
      },
      "source": [
        "# for lab 2 question no - 2 for old fleet with the confidence interval 85 and 80 \n",
        "mean_old, lower_old_fleet, upper_old_fleet = bootstrap_avg_ci(current_fleet, current_fleet.shape[0], 10000, 85)\n"
      ],
      "execution_count": 20,
      "outputs": []
    },
    {
      "cell_type": "code",
      "metadata": {
        "id": "MkxvDZG4HC0n",
        "outputId": "7dcb59c2-0d12-4954-fcbc-7ad201d89b52",
        "colab": {
          "base_uri": "https://localhost:8080/"
        }
      },
      "source": [
        "print('old Fleet with 85%:')\n",
        "print('  Mean:', mean_old)\n",
        "print('  Lower Mean (85% CI):', lower_old_fleet)\n",
        "print('  Upper Mean (85% CI):', upper_old_fleet)\n",
        "\n"
      ],
      "execution_count": 21,
      "outputs": [
        {
          "output_type": "stream",
          "text": [
            "old Fleet:\n",
            "  Mean: 20.140946987951807\n",
            "  Lower Mean (85% CI): 19.550200803212853\n",
            "  Upper Mean (85% CI): 20.72690763052209\n"
          ],
          "name": "stdout"
        }
      ]
    },
    {
      "cell_type": "code",
      "metadata": {
        "id": "FIZnfnqtzL4C"
      },
      "source": [
        "mean_old, lower_old_fleet, upper_old_fleet = bootstrap_avg_ci(current_fleet, current_fleet.shape[0], 10000, 80)"
      ],
      "execution_count": 22,
      "outputs": []
    },
    {
      "cell_type": "code",
      "metadata": {
        "id": "0hGYSJOCzMFe",
        "outputId": "76b118a3-9715-4606-aba6-3310aca07834",
        "colab": {
          "base_uri": "https://localhost:8080/"
        }
      },
      "source": [
        "print('old Fleet with 80% interval:')\n",
        "print('  Mean:', mean_old)\n",
        "print('  Lower Mean (80% CI):', lower_old_fleet)\n",
        "print('  Upper Mean (80% CI):', upper_old_fleet)"
      ],
      "execution_count": 23,
      "outputs": [
        {
          "output_type": "stream",
          "text": [
            "old Fleet with 80% interval:\n",
            "  Mean: 20.143119277108433\n",
            "  Lower Mean (80% CI): 19.61847389558233\n",
            "  Upper Mean (80% CI): 20.662650602409638\n"
          ],
          "name": "stdout"
        }
      ]
    },
    {
      "cell_type": "code",
      "metadata": {
        "id": "-CvY2V8jx-ja"
      },
      "source": [
        "# for lab 2 question no - 2 for new fleet\n",
        "mean_new, lower_new_fleet, upper_new_fleet = bootstrap_avg_ci(new_fleet, new_fleet.shape[0], 10000, 99)"
      ],
      "execution_count": 24,
      "outputs": []
    },
    {
      "cell_type": "code",
      "metadata": {
        "id": "gVFNM4pCyGaa",
        "outputId": "2bb6592e-7d40-453d-fc7a-f794fec2b733",
        "colab": {
          "base_uri": "https://localhost:8080/"
        }
      },
      "source": [
        "\n",
        "print('New Fleet: with 99% CI')\n",
        "print('  Mean:', mean_new)\n",
        "print('  Lower Mean (99% CI):', lower_new_fleet)\n",
        "print('  Upper Mean (99% CI):', upper_new_fleet)"
      ],
      "execution_count": 25,
      "outputs": [
        {
          "output_type": "stream",
          "text": [
            "New Fleet: with 99% CI\n",
            "  Mean: 30.487559493670886\n",
            "  Lower Mean (99% CI): 28.746772151898732\n",
            "  Upper Mean (99% CI): 32.24056962025316\n"
          ],
          "name": "stdout"
        }
      ]
    },
    {
      "cell_type": "code",
      "metadata": {
        "id": "7QUVmE20zsBn"
      },
      "source": [
        "# for lab 2 question no - 2 for old fleet with the confidence interval 99 \n",
        "mean_old, lower_old_fleet, upper_old_fleet = bootstrap_avg_ci(current_fleet, current_fleet.shape[0], 10000, 99)"
      ],
      "execution_count": 26,
      "outputs": []
    },
    {
      "cell_type": "code",
      "metadata": {
        "id": "6AWrXyBw0MEj",
        "outputId": "78e04088-f2a6-4c0e-b660-1d86e20b2bf6",
        "colab": {
          "base_uri": "https://localhost:8080/"
        }
      },
      "source": [
        "print('old Fleet with 99%:')\n",
        "print('  Mean:', mean_old)\n",
        "print('  Lower Mean (99% CI):', lower_old_fleet)\n",
        "print('  Upper Mean (99% CI):', upper_old_fleet)"
      ],
      "execution_count": 27,
      "outputs": [
        {
          "output_type": "stream",
          "text": [
            "old Fleet with 99%:\n",
            "  Mean: 20.145136947791165\n",
            "  Lower Mean (99% CI): 19.12042168674699\n",
            "  Upper Mean (99% CI): 21.204839357429716\n"
          ],
          "name": "stdout"
        }
      ]
    },
    {
      "cell_type": "code",
      "metadata": {
        "id": "hfyYeQT02TW3"
      },
      "source": [
        "# Create your own function for a permutation test here (you will need it for the lab quiz!):\n",
        "   \n",
        "def permutation_test_avg(X, Y, n_permutations):\n",
        "  concat = np.concatenate((X, Y))\n",
        "  Xsize = len(X)\n",
        "  meanX = np.mean(X)\n",
        "  meanY = np.mean(Y)\n",
        "  meanDiffObs = meanY - meanX\n",
        "  count = 0\n",
        "  for i in range(n_permutations):\n",
        "    perm = np.random.permutation(concat)\n",
        "    permX = perm[:Xsize]\n",
        "    permY = perm[Xsize:]\n",
        "    meanPermX = np.mean(permX)\n",
        "    meanPermY = np.mean(permY)\n",
        "    if meanPermY - meanPermX > meanDiffObs:\n",
        "      count = count + 1\n",
        "  return count / n_permutations\n"
      ],
      "execution_count": 29,
      "outputs": []
    },
    {
      "cell_type": "code",
      "metadata": {
        "colab": {
          "base_uri": "https://localhost:8080/",
          "height": 312
        },
        "id": "TdgQdI_XVU-M",
        "outputId": "71cc7317-c14a-4f2f-ce57-cbd3d436176a"
      },
      "source": [
        "iterations = np.linspace(1, 30000, 100, dtype=np.int32)\n",
        "p_values = []\n",
        "for i in iterations:\n",
        "  p_values.append(permutation_test_avg(current_fleet, new_fleet, i))\n",
        "\n",
        "plt.scatter(iterations, p_values)\n",
        "plt.xlabel('Permutations')\n",
        "plt.ylabel('P-Value')\n",
        "plt.title('Changes in P-Value According to Permutations Used')\n",
        "\n"
      ],
      "execution_count": 30,
      "outputs": [
        {
          "output_type": "execute_result",
          "data": {
            "text/plain": [
              "Text(0.5, 1.0, 'Changes in P-Value According to Permutations Used')"
            ]
          },
          "metadata": {
            "tags": []
          },
          "execution_count": 30
        },
        {
          "output_type": "display_data",
          "data": {
            "image/png": "[encoded data removed]",
            "text/plain": [
              "<Figure size 432x288 with 1 Axes>"
            ]
          },
          "metadata": {
            "tags": [],
            "needs_background": "light"
          }
        }
      ]
    },
    {
      "cell_type": "code",
      "metadata": {
        "id": "JZw__3pQb_et"
      },
      "source": [
        "# The variables below represent the percentages of democratic votes in Pennsylvania and Ohio (one value for each state).\n",
        "dem_share_PA = [60.08, 40.64, 36.07, 41.21, 31.04, 43.78, 44.08, 46.85, 44.71, 46.15, 63.10, 52.20, 43.18, 40.24, 39.92, 47.87, 37.77, 40.11, 49.85, 48.61, 38.62, 54.25, 34.84, 47.75, 43.82, 55.97, 58.23, 42.97, 42.38, 36.11, 37.53, 42.65, 50.96, 47.43, 56.24, 45.60, 46.39, 35.22, 48.56, 32.97, 57.88, 36.05, 37.72, 50.36, 32.12, 41.55, 54.66, 57.81, 54.58, 32.88, 54.37, 40.45, 47.61, 60.49, 43.11, 27.32, 44.03, 33.56, 37.26, 54.64, 43.12, 25.34, 49.79, 83.56, 40.09, 60.81, 49.81]\n",
        "dem_share_OH = [56.94, 50.46, 65.99, 45.88, 42.23, 45.26, 57.01, 53.61, 59.10, 61.48, 43.43, 44.69, 54.59, 48.36, 45.89, 48.62, 43.92, 38.23, 28.79, 63.57, 38.07, 40.18, 43.05, 41.56, 42.49, 36.06, 52.76, 46.07, 39.43, 39.26, 47.47, 27.92, 38.01, 45.45, 29.07, 28.94, 51.28, 50.10, 39.84, 36.43, 35.71, 31.47, 47.01, 40.10, 48.76, 31.56, 39.86, 45.31, 35.47, 51.38, 46.33, 48.73, 41.77, 41.32, 48.46, 53.14, 34.01, 54.74, 40.67, 38.96, 46.29, 38.25, 6.80, 31.75, 46.33, 44.90, 33.57, 38.10, 39.67, 40.47, 49.44, 37.62, 36.71, 46.73, 42.20, 53.16, 52.40, 58.36, 68.02, 38.53, 34.58, 69.64, 60.50, 53.53, 36.54, 49.58, 41.97, 38.11]\n",
        "\n",
        "import pandas as pd\n"
      ],
      "execution_count": 33,
      "outputs": []
    },
    {
      "cell_type": "code",
      "metadata": {
        "id": "Ddm23XJ95XVw"
      },
      "source": [
        "df_PA = pd.DataFrame(dem_share_PA)\n"
      ],
      "execution_count": 34,
      "outputs": []
    },
    {
      "cell_type": "code",
      "metadata": {
        "colab": {
          "base_uri": "https://localhost:8080/"
        },
        "id": "4IJMhSPZ5x0q",
        "outputId": "eff37f73-70c5-424d-a74d-f5c32faeeae8"
      },
      "source": [
        "df_PA.info()"
      ],
      "execution_count": 35,
      "outputs": [
        {
          "output_type": "stream",
          "text": [
            "<class 'pandas.core.frame.DataFrame'>\n",
            "RangeIndex: 67 entries, 0 to 66\n",
            "Data columns (total 1 columns):\n",
            " #   Column  Non-Null Count  Dtype  \n",
            "---  ------  --------------  -----  \n",
            " 0   0       67 non-null     float64\n",
            "dtypes: float64(1)\n",
            "memory usage: 664.0 bytes\n"
          ],
          "name": "stdout"
        }
      ]
    },
    {
      "cell_type": "code",
      "metadata": {
        "id": "Dczn7uYc5naJ"
      },
      "source": [
        "df_OH = pd.DataFrame(dem_share_OH)"
      ],
      "execution_count": 36,
      "outputs": []
    },
    {
      "cell_type": "code",
      "metadata": {
        "colab": {
          "base_uri": "https://localhost:8080/"
        },
        "id": "49HaTpn45fW6",
        "outputId": "263d025f-7b37-4bd7-d870-d51b5f6774df"
      },
      "source": [
        "df_OH.info()"
      ],
      "execution_count": 37,
      "outputs": [
        {
          "output_type": "stream",
          "text": [
            "<class 'pandas.core.frame.DataFrame'>\n",
            "RangeIndex: 88 entries, 0 to 87\n",
            "Data columns (total 1 columns):\n",
            " #   Column  Non-Null Count  Dtype  \n",
            "---  ------  --------------  -----  \n",
            " 0   0       88 non-null     float64\n",
            "dtypes: float64(1)\n",
            "memory usage: 832.0 bytes\n"
          ],
          "name": "stdout"
        }
      ]
    },
    {
      "cell_type": "code",
      "metadata": {
        "id": "G-oHLQIT6CoS",
        "outputId": "801bea69-e61f-45b0-911f-e2ad28f50305",
        "colab": {
          "base_uri": "https://localhost:8080/",
          "height": 195
        }
      },
      "source": [
        "df_OH.head()"
      ],
      "execution_count": 41,
      "outputs": [
        {
          "output_type": "execute_result",
          "data": {
            "text/html": [
              "<div>\n",
              "<style scoped>\n",
              "    .dataframe tbody tr th:only-of-type {\n",
              "        vertical-align: middle;\n",
              "    }\n",
              "\n",
              "    .dataframe tbody tr th {\n",
              "        vertical-align: top;\n",
              "    }\n",
              "\n",
              "    .dataframe thead th {\n",
              "        text-align: right;\n",
              "    }\n",
              "</style>\n",
              "<table border=\"1\" class=\"dataframe\">\n",
              "  <thead>\n",
              "    <tr style=\"text-align: right;\">\n",
              "      <th></th>\n",
              "      <th>0</th>\n",
              "    </tr>\n",
              "  </thead>\n",
              "  <tbody>\n",
              "    <tr>\n",
              "      <th>0</th>\n",
              "      <td>56.94</td>\n",
              "    </tr>\n",
              "    <tr>\n",
              "      <th>1</th>\n",
              "      <td>50.46</td>\n",
              "    </tr>\n",
              "    <tr>\n",
              "      <th>2</th>\n",
              "      <td>65.99</td>\n",
              "    </tr>\n",
              "    <tr>\n",
              "      <th>3</th>\n",
              "      <td>45.88</td>\n",
              "    </tr>\n",
              "    <tr>\n",
              "      <th>4</th>\n",
              "      <td>42.23</td>\n",
              "    </tr>\n",
              "  </tbody>\n",
              "</table>\n",
              "</div>"
            ],
            "text/plain": [
              "       0\n",
              "0  56.94\n",
              "1  50.46\n",
              "2  65.99\n",
              "3  45.88\n",
              "4  42.23"
            ]
          },
          "metadata": {
            "tags": []
          },
          "execution_count": 41
        }
      ]
    },
    {
      "cell_type": "code",
      "metadata": {
        "id": "agIKV61m6JQa",
        "outputId": "64ecfe51-e3f0-465b-de3a-ed155a128aee",
        "colab": {
          "base_uri": "https://localhost:8080/"
        }
      },
      "source": [
        "df_OH.shape"
      ],
      "execution_count": 43,
      "outputs": [
        {
          "output_type": "execute_result",
          "data": {
            "text/plain": [
              "(88, 1)"
            ]
          },
          "metadata": {
            "tags": []
          },
          "execution_count": 43
        }
      ]
    },
    {
      "cell_type": "code",
      "metadata": {
        "id": "hLnLAQoN4lRX"
      },
      "source": [
        "mean_OH, lower, upper = bootstrap_avg_ci(df_OH[0], df_OH.shape[0], 25000, 90)"
      ],
      "execution_count": 50,
      "outputs": []
    },
    {
      "cell_type": "code",
      "metadata": {
        "id": "_WDRIE796b1I",
        "outputId": "85e23ca4-f943-4bef-ee66-f6c5b8de2b83",
        "colab": {
          "base_uri": "https://localhost:8080/"
        }
      },
      "source": [
        "print('OH with 90%:')\n",
        "print('  Mean:', mean_OH)\n",
        "print('  Lower Mean (90% CI):', lower)\n",
        "print('  Upper Mean (90% CI):', upper)"
      ],
      "execution_count": 52,
      "outputs": [
        {
          "output_type": "stream",
          "text": [
            "OH with 90%:\n",
            "  Mean: 44.3215254772727\n",
            "  Lower Mean (90% CI): 42.593602272727274\n",
            "  Upper Mean (90% CI): 46.04299431818182\n"
          ],
          "name": "stdout"
        }
      ]
    },
    {
      "cell_type": "code",
      "metadata": {
        "id": "LotH-fIA6hbl"
      },
      "source": [
        "mean_PA, lower, upper = bootstrap_avg_ci(df_PA[0], df_PA.shape[0], 25000, 90)"
      ],
      "execution_count": 53,
      "outputs": []
    },
    {
      "cell_type": "code",
      "metadata": {
        "id": "XawaI5AL67QN",
        "outputId": "772ce0c1-c9bf-451e-ca10-b81ef3ec5899",
        "colab": {
          "base_uri": "https://localhost:8080/"
        }
      },
      "source": [
        "print('PA with 90%:')\n",
        "print('  Mean:', mean_OH)\n",
        "print('  Lower Mean (90% CI):', lower)\n",
        "print('  Upper Mean (905% CI):', upper)"
      ],
      "execution_count": 54,
      "outputs": [
        {
          "output_type": "stream",
          "text": [
            "PA with 90%:\n",
            "  Mean: 44.3215254772727\n",
            "  Lower Mean (90% CI): 43.541335820895526\n",
            "  Upper Mean (905% CI): 47.461641791044784\n"
          ],
          "name": "stdout"
        }
      ]
    },
    {
      "cell_type": "code",
      "metadata": {
        "id": "t1PY5l1y8A07",
        "outputId": "2870a56d-f298-4727-a165-4b8900dbde11",
        "colab": {
          "base_uri": "https://localhost:8080/",
          "height": 312
        }
      },
      "source": [
        "iterations = np.linspace(1, 20000, 100, dtype=np.int32)\n",
        "p_values = []\n",
        "for i in iterations:\n",
        "  p_values.append(permutation_test_avg(df_OH[0], df_PA[0], i))\n",
        "\n",
        "plt.scatter(iterations, p_values)\n",
        "plt.xlabel('Permutations')\n",
        "plt.ylabel('P-Value')\n",
        "plt.title('Changes in P-Value According to Permutations Used')"
      ],
      "execution_count": 57,
      "outputs": [
        {
          "output_type": "execute_result",
          "data": {
            "text/plain": [
              "Text(0.5, 1.0, 'Changes in P-Value According to Permutations Used')"
            ]
          },
          "metadata": {
            "tags": []
          },
          "execution_count": 57
        },
        {
          "output_type": "display_data",
          "data": {
            "image/png": "[encoded data removed]",
            "text/plain": [
              "<Figure size 432x288 with 1 Axes>"
            ]
          },
          "metadata": {
            "tags": [],
            "needs_background": "light"
          }
        }
      ]
    }
  ]
}