{
  "nbformat": 4,
  "nbformat_minor": 0,
  "metadata": {
    "colab": {
      "name": "movies_Recommender System.ipynb",
      "provenance": [],
      "authorship_tag": "ABX9TyOmhLHH+Mg0WuXbq53MrAyd",
      "include_colab_link": true
    },
    "kernelspec": {
      "display_name": "Python 3",
      "name": "python3"
    }
  },
  "cells": [
    {
      "cell_type": "markdown",
      "metadata": {
        "id": "view-in-github",
        "colab_type": "text"
      },
      "source": [
        "<a href=\"https://colab.research.google.com/github/na2027/CE888/blob/main/movies_Recommender_System.ipynb\" target=\"_parent\"><img src=\"https://colab.research.google.com/assets/colab-badge.svg\" alt=\"Open In Colab\"/></a>"
      ]
    },
    {
      "cell_type": "code",
      "metadata": {
        "id": "TkpLgCYQuEsP"
      },
      "source": [
        "import pandas as pd\n",
        "import numpy as np"
      ],
      "execution_count": 1,
      "outputs": []
    },
    {
      "cell_type": "code",
      "metadata": {
        "id": "Jw5m40hLurhY",
        "colab": {
          "base_uri": "https://localhost:8080/",
          "height": 496
        },
        "outputId": "bed0a808-5cef-48d0-ee79-f2696c278e1c"
      },
      "source": [
        "df_movie = pd.read_excel('/content/movies_latent_factors (1).xlsx')\n",
        "df_movie.head()"
      ],
      "execution_count": 11,
      "outputs": [
        {
          "output_type": "execute_result",
          "data": {
            "text/html": [
              "<div>\n",
              "<style scoped>\n",
              "    .dataframe tbody tr th:only-of-type {\n",
              "        vertical-align: middle;\n",
              "    }\n",
              "\n",
              "    .dataframe tbody tr th {\n",
              "        vertical-align: top;\n",
              "    }\n",
              "\n",
              "    .dataframe thead th {\n",
              "        text-align: right;\n",
              "    }\n",
              "</style>\n",
              "<table border=\"1\" class=\"dataframe\">\n",
              "  <thead>\n",
              "    <tr style=\"text-align: right;\">\n",
              "      <th></th>\n",
              "      <th>Movie ID</th>\n",
              "      <th>Title</th>\n",
              "      <th>Factor1</th>\n",
              "      <th>Factor2</th>\n",
              "      <th>Factor3</th>\n",
              "      <th>Factor4</th>\n",
              "      <th>Factor5</th>\n",
              "      <th>Factor6</th>\n",
              "      <th>Factor7</th>\n",
              "      <th>Factor8</th>\n",
              "      <th>Factor9</th>\n",
              "      <th>Factor10</th>\n",
              "      <th>Factor11</th>\n",
              "      <th>Factor12</th>\n",
              "      <th>Factor13</th>\n",
              "      <th>Factor14</th>\n",
              "      <th>Factor15</th>\n",
              "    </tr>\n",
              "  </thead>\n",
              "  <tbody>\n",
              "    <tr>\n",
              "      <th>0</th>\n",
              "      <td>11</td>\n",
              "      <td>Star Wars: Episode IV - A New Hope (1977)</td>\n",
              "      <td>-1.521848</td>\n",
              "      <td>-1.038507</td>\n",
              "      <td>2.027269</td>\n",
              "      <td>0.247933</td>\n",
              "      <td>-0.594548</td>\n",
              "      <td>2.513260</td>\n",
              "      <td>-1.848910</td>\n",
              "      <td>0.476710</td>\n",
              "      <td>-0.224146</td>\n",
              "      <td>-0.760681</td>\n",
              "      <td>-0.973915</td>\n",
              "      <td>0.862379</td>\n",
              "      <td>0.403861</td>\n",
              "      <td>1.129616</td>\n",
              "      <td>-0.248806</td>\n",
              "    </tr>\n",
              "    <tr>\n",
              "      <th>1</th>\n",
              "      <td>12</td>\n",
              "      <td>Finding Nemo (2003)</td>\n",
              "      <td>-0.342185</td>\n",
              "      <td>-0.296586</td>\n",
              "      <td>-0.385962</td>\n",
              "      <td>2.443297</td>\n",
              "      <td>-1.097015</td>\n",
              "      <td>-0.619465</td>\n",
              "      <td>0.572887</td>\n",
              "      <td>0.329516</td>\n",
              "      <td>-0.712228</td>\n",
              "      <td>0.323554</td>\n",
              "      <td>-0.561948</td>\n",
              "      <td>-0.142405</td>\n",
              "      <td>-0.564415</td>\n",
              "      <td>0.506876</td>\n",
              "      <td>1.274993</td>\n",
              "    </tr>\n",
              "    <tr>\n",
              "      <th>2</th>\n",
              "      <td>13</td>\n",
              "      <td>Forrest Gump (1994)</td>\n",
              "      <td>-2.240888</td>\n",
              "      <td>-0.438815</td>\n",
              "      <td>-2.275177</td>\n",
              "      <td>0.614548</td>\n",
              "      <td>0.904469</td>\n",
              "      <td>0.711919</td>\n",
              "      <td>-0.420876</td>\n",
              "      <td>1.302036</td>\n",
              "      <td>-0.868418</td>\n",
              "      <td>-0.160122</td>\n",
              "      <td>0.633667</td>\n",
              "      <td>0.133138</td>\n",
              "      <td>-0.330276</td>\n",
              "      <td>-2.209004</td>\n",
              "      <td>-0.419092</td>\n",
              "    </tr>\n",
              "    <tr>\n",
              "      <th>3</th>\n",
              "      <td>14</td>\n",
              "      <td>American Beauty (1999)</td>\n",
              "      <td>-0.634531</td>\n",
              "      <td>2.186059</td>\n",
              "      <td>-0.066681</td>\n",
              "      <td>0.086197</td>\n",
              "      <td>0.517558</td>\n",
              "      <td>-0.185319</td>\n",
              "      <td>-0.412352</td>\n",
              "      <td>0.063841</td>\n",
              "      <td>0.075937</td>\n",
              "      <td>-0.577682</td>\n",
              "      <td>0.526803</td>\n",
              "      <td>-1.465557</td>\n",
              "      <td>-0.819682</td>\n",
              "      <td>0.549010</td>\n",
              "      <td>-0.681191</td>\n",
              "    </tr>\n",
              "    <tr>\n",
              "      <th>4</th>\n",
              "      <td>22</td>\n",
              "      <td>Pirates of the Caribbean: The Curse of the Bla...</td>\n",
              "      <td>0.517348</td>\n",
              "      <td>-1.456763</td>\n",
              "      <td>0.369161</td>\n",
              "      <td>0.073903</td>\n",
              "      <td>-0.098332</td>\n",
              "      <td>-0.594722</td>\n",
              "      <td>0.828888</td>\n",
              "      <td>0.033626</td>\n",
              "      <td>-0.707414</td>\n",
              "      <td>0.717877</td>\n",
              "      <td>1.394326</td>\n",
              "      <td>-0.786986</td>\n",
              "      <td>1.429191</td>\n",
              "      <td>0.855746</td>\n",
              "      <td>-2.292566</td>\n",
              "    </tr>\n",
              "  </tbody>\n",
              "</table>\n",
              "</div>"
            ],
            "text/plain": [
              "   Movie ID  ...  Factor15\n",
              "0        11  ... -0.248806\n",
              "1        12  ...  1.274993\n",
              "2        13  ... -0.419092\n",
              "3        14  ... -0.681191\n",
              "4        22  ... -2.292566\n",
              "\n",
              "[5 rows x 17 columns]"
            ]
          },
          "metadata": {
            "tags": []
          },
          "execution_count": 11
        }
      ]
    },
    {
      "cell_type": "code",
      "metadata": {
        "colab": {
          "base_uri": "https://localhost:8080/"
        },
        "id": "cd26RBOGNSfN",
        "outputId": "8407663b-ceb7-4b5c-8c79-3dd2c7ed6d1a"
      },
      "source": [
        "df_movie.info()"
      ],
      "execution_count": 12,
      "outputs": [
        {
          "output_type": "stream",
          "text": [
            "<class 'pandas.core.frame.DataFrame'>\n",
            "RangeIndex: 100 entries, 0 to 99\n",
            "Data columns (total 17 columns):\n",
            " #   Column    Non-Null Count  Dtype  \n",
            "---  ------    --------------  -----  \n",
            " 0   Movie ID  100 non-null    int64  \n",
            " 1   Title     100 non-null    object \n",
            " 2   Factor1   100 non-null    float64\n",
            " 3   Factor2   100 non-null    float64\n",
            " 4   Factor3   100 non-null    float64\n",
            " 5   Factor4   100 non-null    float64\n",
            " 6   Factor5   100 non-null    float64\n",
            " 7   Factor6   100 non-null    float64\n",
            " 8   Factor7   100 non-null    float64\n",
            " 9   Factor8   100 non-null    float64\n",
            " 10  Factor9   100 non-null    float64\n",
            " 11  Factor10  100 non-null    float64\n",
            " 12  Factor11  100 non-null    float64\n",
            " 13  Factor12  100 non-null    float64\n",
            " 14  Factor13  100 non-null    float64\n",
            " 15  Factor14  100 non-null    float64\n",
            " 16  Factor15  100 non-null    float64\n",
            "dtypes: float64(15), int64(1), object(1)\n",
            "memory usage: 13.4+ KB\n"
          ],
          "name": "stdout"
        }
      ]
    },
    {
      "cell_type": "code",
      "metadata": {
        "id": "wxjxSC_LM_T7"
      },
      "source": [
        "df_movie = df_movie.rename(columns={\"Movie ID\": \"Movie_ID\"})"
      ],
      "execution_count": 13,
      "outputs": []
    },
    {
      "cell_type": "code",
      "metadata": {
        "colab": {
          "base_uri": "https://localhost:8080/"
        },
        "id": "pS0eYrViOjGK",
        "outputId": "9b53a1cd-98a8-43a7-b443-01f3ab00b74d"
      },
      "source": [
        "df_movie.loc[df.Movie_ID == 36657, 'Factor3'] "
      ],
      "execution_count": 14,
      "outputs": [
        {
          "output_type": "execute_result",
          "data": {
            "text/plain": [
              "97    0.668953\n",
              "Name: Factor3, dtype: float64"
            ]
          },
          "metadata": {
            "tags": []
          },
          "execution_count": 14
        }
      ]
    },
    {
      "cell_type": "code",
      "metadata": {
        "colab": {
          "base_uri": "https://localhost:8080/",
          "height": 428
        },
        "id": "m5SuUXBAPRak",
        "outputId": "c7fe89eb-cb5a-4336-d7d4-557407f546c2"
      },
      "source": [
        "df_movie.nlargest(5, ['Factor7'])"
      ],
      "execution_count": 15,
      "outputs": [
        {
          "output_type": "execute_result",
          "data": {
            "text/html": [
              "<div>\n",
              "<style scoped>\n",
              "    .dataframe tbody tr th:only-of-type {\n",
              "        vertical-align: middle;\n",
              "    }\n",
              "\n",
              "    .dataframe tbody tr th {\n",
              "        vertical-align: top;\n",
              "    }\n",
              "\n",
              "    .dataframe thead th {\n",
              "        text-align: right;\n",
              "    }\n",
              "</style>\n",
              "<table border=\"1\" class=\"dataframe\">\n",
              "  <thead>\n",
              "    <tr style=\"text-align: right;\">\n",
              "      <th></th>\n",
              "      <th>Movie_ID</th>\n",
              "      <th>Title</th>\n",
              "      <th>Factor1</th>\n",
              "      <th>Factor2</th>\n",
              "      <th>Factor3</th>\n",
              "      <th>Factor4</th>\n",
              "      <th>Factor5</th>\n",
              "      <th>Factor6</th>\n",
              "      <th>Factor7</th>\n",
              "      <th>Factor8</th>\n",
              "      <th>Factor9</th>\n",
              "      <th>Factor10</th>\n",
              "      <th>Factor11</th>\n",
              "      <th>Factor12</th>\n",
              "      <th>Factor13</th>\n",
              "      <th>Factor14</th>\n",
              "      <th>Factor15</th>\n",
              "    </tr>\n",
              "  </thead>\n",
              "  <tbody>\n",
              "    <tr>\n",
              "      <th>90</th>\n",
              "      <td>8467</td>\n",
              "      <td>Dumb &amp; Dumber (1994)</td>\n",
              "      <td>2.720287</td>\n",
              "      <td>1.217620</td>\n",
              "      <td>-0.101601</td>\n",
              "      <td>-0.119204</td>\n",
              "      <td>1.279939</td>\n",
              "      <td>2.805066</td>\n",
              "      <td>3.524783</td>\n",
              "      <td>-1.283701</td>\n",
              "      <td>-0.133343</td>\n",
              "      <td>-1.343301</td>\n",
              "      <td>-1.009496</td>\n",
              "      <td>1.808762</td>\n",
              "      <td>-1.240696</td>\n",
              "      <td>0.279910</td>\n",
              "      <td>1.616338</td>\n",
              "    </tr>\n",
              "    <tr>\n",
              "      <th>85</th>\n",
              "      <td>3049</td>\n",
              "      <td>Ace Ventura: Pet Detective (1994)</td>\n",
              "      <td>2.723720</td>\n",
              "      <td>0.745282</td>\n",
              "      <td>0.029587</td>\n",
              "      <td>-0.328153</td>\n",
              "      <td>0.685947</td>\n",
              "      <td>2.592889</td>\n",
              "      <td>3.457525</td>\n",
              "      <td>-0.780380</td>\n",
              "      <td>-0.219994</td>\n",
              "      <td>-1.313421</td>\n",
              "      <td>0.163827</td>\n",
              "      <td>0.573048</td>\n",
              "      <td>-0.324509</td>\n",
              "      <td>0.358344</td>\n",
              "      <td>0.128814</td>\n",
              "    </tr>\n",
              "    <tr>\n",
              "      <th>68</th>\n",
              "      <td>854</td>\n",
              "      <td>The Mask (1994)</td>\n",
              "      <td>2.263142</td>\n",
              "      <td>-0.067761</td>\n",
              "      <td>-0.205463</td>\n",
              "      <td>0.068880</td>\n",
              "      <td>-0.189090</td>\n",
              "      <td>2.078554</td>\n",
              "      <td>2.444922</td>\n",
              "      <td>-0.075971</td>\n",
              "      <td>-0.674767</td>\n",
              "      <td>-0.198560</td>\n",
              "      <td>1.641380</td>\n",
              "      <td>-0.839276</td>\n",
              "      <td>-0.517086</td>\n",
              "      <td>-1.058431</td>\n",
              "      <td>-0.931746</td>\n",
              "    </tr>\n",
              "    <tr>\n",
              "      <th>5</th>\n",
              "      <td>24</td>\n",
              "      <td>Kill Bill: Vol. 1 (2003)</td>\n",
              "      <td>-0.645019</td>\n",
              "      <td>1.997440</td>\n",
              "      <td>2.085625</td>\n",
              "      <td>-1.686559</td>\n",
              "      <td>-0.047874</td>\n",
              "      <td>-1.046274</td>\n",
              "      <td>1.613575</td>\n",
              "      <td>4.630243</td>\n",
              "      <td>0.276288</td>\n",
              "      <td>0.408997</td>\n",
              "      <td>-1.148072</td>\n",
              "      <td>0.269853</td>\n",
              "      <td>0.724543</td>\n",
              "      <td>-0.385681</td>\n",
              "      <td>1.036656</td>\n",
              "    </tr>\n",
              "    <tr>\n",
              "      <th>36</th>\n",
              "      <td>393</td>\n",
              "      <td>Kill Bill: Vol. 2 (2004)</td>\n",
              "      <td>-0.322067</td>\n",
              "      <td>1.736348</td>\n",
              "      <td>1.882085</td>\n",
              "      <td>-1.624796</td>\n",
              "      <td>0.122520</td>\n",
              "      <td>-1.269396</td>\n",
              "      <td>1.497789</td>\n",
              "      <td>4.185528</td>\n",
              "      <td>0.053917</td>\n",
              "      <td>0.436027</td>\n",
              "      <td>-1.048859</td>\n",
              "      <td>0.434455</td>\n",
              "      <td>0.657099</td>\n",
              "      <td>-0.298533</td>\n",
              "      <td>0.888315</td>\n",
              "    </tr>\n",
              "  </tbody>\n",
              "</table>\n",
              "</div>"
            ],
            "text/plain": [
              "    Movie_ID                              Title  ...  Factor14  Factor15\n",
              "90      8467               Dumb & Dumber (1994)  ...  0.279910  1.616338\n",
              "85      3049  Ace Ventura: Pet Detective (1994)  ...  0.358344  0.128814\n",
              "68       854                    The Mask (1994)  ... -1.058431 -0.931746\n",
              "5         24           Kill Bill: Vol. 1 (2003)  ... -0.385681  1.036656\n",
              "36       393           Kill Bill: Vol. 2 (2004)  ... -0.298533  0.888315\n",
              "\n",
              "[5 rows x 17 columns]"
            ]
          },
          "metadata": {
            "tags": []
          },
          "execution_count": 15
        }
      ]
    },
    {
      "cell_type": "code",
      "metadata": {
        "id": "tTbRWVxRvAZe"
      },
      "source": [
        "arr = df_movie.values"
      ],
      "execution_count": 16,
      "outputs": []
    },
    {
      "cell_type": "code",
      "metadata": {
        "id": "klVofdBhvU0I",
        "colab": {
          "base_uri": "https://localhost:8080/",
          "height": 224
        },
        "outputId": "3d945f65-520a-4d8c-c0ef-f602aab4301c"
      },
      "source": [
        "df_users = pd.read_excel('/content/movies_latent_factors (1).xlsx', 'Users')\n",
        "df_users.head()"
      ],
      "execution_count": 17,
      "outputs": [
        {
          "output_type": "execute_result",
          "data": {
            "text/html": [
              "<div>\n",
              "<style scoped>\n",
              "    .dataframe tbody tr th:only-of-type {\n",
              "        vertical-align: middle;\n",
              "    }\n",
              "\n",
              "    .dataframe tbody tr th {\n",
              "        vertical-align: top;\n",
              "    }\n",
              "\n",
              "    .dataframe thead th {\n",
              "        text-align: right;\n",
              "    }\n",
              "</style>\n",
              "<table border=\"1\" class=\"dataframe\">\n",
              "  <thead>\n",
              "    <tr style=\"text-align: right;\">\n",
              "      <th></th>\n",
              "      <th>User</th>\n",
              "      <th>Factor1</th>\n",
              "      <th>Factor2</th>\n",
              "      <th>Factor3</th>\n",
              "      <th>Factor4</th>\n",
              "      <th>Factor5</th>\n",
              "      <th>Factor6</th>\n",
              "      <th>Factor7</th>\n",
              "      <th>Factor8</th>\n",
              "      <th>Factor9</th>\n",
              "      <th>Factor10</th>\n",
              "      <th>Factor11</th>\n",
              "      <th>Factor12</th>\n",
              "      <th>Factor13</th>\n",
              "      <th>Factor14</th>\n",
              "      <th>Factor15</th>\n",
              "    </tr>\n",
              "  </thead>\n",
              "  <tbody>\n",
              "    <tr>\n",
              "      <th>0</th>\n",
              "      <td>4768</td>\n",
              "      <td>-0.204024</td>\n",
              "      <td>0.161079</td>\n",
              "      <td>-0.090447</td>\n",
              "      <td>0.138495</td>\n",
              "      <td>-0.162934</td>\n",
              "      <td>0.163894</td>\n",
              "      <td>0.051502</td>\n",
              "      <td>-0.088582</td>\n",
              "      <td>0.126829</td>\n",
              "      <td>0.065967</td>\n",
              "      <td>0.085008</td>\n",
              "      <td>0.355404</td>\n",
              "      <td>0.007108</td>\n",
              "      <td>-0.118663</td>\n",
              "      <td>-0.039125</td>\n",
              "    </tr>\n",
              "    <tr>\n",
              "      <th>1</th>\n",
              "      <td>156</td>\n",
              "      <td>-0.189652</td>\n",
              "      <td>-0.178979</td>\n",
              "      <td>-0.091490</td>\n",
              "      <td>-0.000823</td>\n",
              "      <td>-0.032646</td>\n",
              "      <td>0.177209</td>\n",
              "      <td>-0.098123</td>\n",
              "      <td>-0.068283</td>\n",
              "      <td>-0.011575</td>\n",
              "      <td>0.120866</td>\n",
              "      <td>-0.009931</td>\n",
              "      <td>-0.048606</td>\n",
              "      <td>0.045916</td>\n",
              "      <td>0.113671</td>\n",
              "      <td>0.179873</td>\n",
              "    </tr>\n",
              "    <tr>\n",
              "      <th>2</th>\n",
              "      <td>5323</td>\n",
              "      <td>-0.115308</td>\n",
              "      <td>-0.090886</td>\n",
              "      <td>-0.053129</td>\n",
              "      <td>0.018472</td>\n",
              "      <td>-0.068081</td>\n",
              "      <td>-0.004828</td>\n",
              "      <td>0.113005</td>\n",
              "      <td>0.102107</td>\n",
              "      <td>0.034758</td>\n",
              "      <td>0.000693</td>\n",
              "      <td>-0.073712</td>\n",
              "      <td>-0.019460</td>\n",
              "      <td>0.108372</td>\n",
              "      <td>0.054471</td>\n",
              "      <td>-0.109552</td>\n",
              "    </tr>\n",
              "    <tr>\n",
              "      <th>3</th>\n",
              "      <td>174</td>\n",
              "      <td>-0.227462</td>\n",
              "      <td>-0.272532</td>\n",
              "      <td>-0.017231</td>\n",
              "      <td>0.054324</td>\n",
              "      <td>0.214755</td>\n",
              "      <td>-0.072639</td>\n",
              "      <td>-0.033122</td>\n",
              "      <td>-0.086508</td>\n",
              "      <td>-0.131479</td>\n",
              "      <td>0.180403</td>\n",
              "      <td>0.095890</td>\n",
              "      <td>-0.082396</td>\n",
              "      <td>0.036767</td>\n",
              "      <td>-0.165438</td>\n",
              "      <td>0.050692</td>\n",
              "    </tr>\n",
              "    <tr>\n",
              "      <th>4</th>\n",
              "      <td>4529</td>\n",
              "      <td>-0.014616</td>\n",
              "      <td>-0.102218</td>\n",
              "      <td>-0.107935</td>\n",
              "      <td>0.155784</td>\n",
              "      <td>-0.123362</td>\n",
              "      <td>-0.118228</td>\n",
              "      <td>-0.013549</td>\n",
              "      <td>-0.050622</td>\n",
              "      <td>0.058698</td>\n",
              "      <td>-0.159600</td>\n",
              "      <td>-0.142382</td>\n",
              "      <td>-0.132836</td>\n",
              "      <td>-0.039897</td>\n",
              "      <td>0.129063</td>\n",
              "      <td>0.102669</td>\n",
              "    </tr>\n",
              "  </tbody>\n",
              "</table>\n",
              "</div>"
            ],
            "text/plain": [
              "   User   Factor1   Factor2   Factor3  ...  Factor12  Factor13  Factor14  Factor15\n",
              "0  4768 -0.204024  0.161079 -0.090447  ...  0.355404  0.007108 -0.118663 -0.039125\n",
              "1   156 -0.189652 -0.178979 -0.091490  ... -0.048606  0.045916  0.113671  0.179873\n",
              "2  5323 -0.115308 -0.090886 -0.053129  ... -0.019460  0.108372  0.054471 -0.109552\n",
              "3   174 -0.227462 -0.272532 -0.017231  ... -0.082396  0.036767 -0.165438  0.050692\n",
              "4  4529 -0.014616 -0.102218 -0.107935  ... -0.132836 -0.039897  0.129063  0.102669\n",
              "\n",
              "[5 rows x 16 columns]"
            ]
          },
          "metadata": {
            "tags": []
          },
          "execution_count": 17
        }
      ]
    },
    {
      "cell_type": "code",
      "metadata": {
        "id": "yHefg52mIdhc",
        "colab": {
          "base_uri": "https://localhost:8080/"
        },
        "outputId": "d0be5265-dc56-487d-b96e-aaba1ae5d1e6"
      },
      "source": [
        "#Quiz questions\n",
        "df_movie[df_movie[\"Movie_ID\"] == 788][\"Factor1\"]"
      ],
      "execution_count": 20,
      "outputs": [
        {
          "output_type": "execute_result",
          "data": {
            "text/plain": [
              "63    1.952558\n",
              "Name: Factor1, dtype: float64"
            ]
          },
          "metadata": {
            "tags": []
          },
          "execution_count": 20
        }
      ]
    },
    {
      "cell_type": "code",
      "metadata": {
        "colab": {
          "base_uri": "https://localhost:8080/",
          "height": 236
        },
        "id": "YlONq_9RSrOs",
        "outputId": "16e20eac-0610-4a63-b89e-a865f9eb63e1"
      },
      "source": [
        "df_movie[df_movie[\"Factor2\"] <= df_movie[\"Factor2\"].min()]"
      ],
      "execution_count": 21,
      "outputs": [
        {
          "output_type": "execute_result",
          "data": {
            "text/html": [
              "<div>\n",
              "<style scoped>\n",
              "    .dataframe tbody tr th:only-of-type {\n",
              "        vertical-align: middle;\n",
              "    }\n",
              "\n",
              "    .dataframe tbody tr th {\n",
              "        vertical-align: top;\n",
              "    }\n",
              "\n",
              "    .dataframe thead th {\n",
              "        text-align: right;\n",
              "    }\n",
              "</style>\n",
              "<table border=\"1\" class=\"dataframe\">\n",
              "  <thead>\n",
              "    <tr style=\"text-align: right;\">\n",
              "      <th></th>\n",
              "      <th>Movie_ID</th>\n",
              "      <th>Title</th>\n",
              "      <th>Factor1</th>\n",
              "      <th>Factor2</th>\n",
              "      <th>Factor3</th>\n",
              "      <th>Factor4</th>\n",
              "      <th>Factor5</th>\n",
              "      <th>Factor6</th>\n",
              "      <th>Factor7</th>\n",
              "      <th>Factor8</th>\n",
              "      <th>Factor9</th>\n",
              "      <th>Factor10</th>\n",
              "      <th>Factor11</th>\n",
              "      <th>Factor12</th>\n",
              "      <th>Factor13</th>\n",
              "      <th>Factor14</th>\n",
              "      <th>Factor15</th>\n",
              "    </tr>\n",
              "  </thead>\n",
              "  <tbody>\n",
              "    <tr>\n",
              "      <th>16</th>\n",
              "      <td>122</td>\n",
              "      <td>The Lord of the Rings: The Return of the King ...</td>\n",
              "      <td>-2.27111</td>\n",
              "      <td>-2.5263</td>\n",
              "      <td>2.142566</td>\n",
              "      <td>0.341954</td>\n",
              "      <td>2.688624</td>\n",
              "      <td>-0.36061</td>\n",
              "      <td>1.140343</td>\n",
              "      <td>-0.932931</td>\n",
              "      <td>1.356982</td>\n",
              "      <td>1.331742</td>\n",
              "      <td>-0.454221</td>\n",
              "      <td>-0.620533</td>\n",
              "      <td>-0.638745</td>\n",
              "      <td>-0.172093</td>\n",
              "      <td>-0.314937</td>\n",
              "    </tr>\n",
              "  </tbody>\n",
              "</table>\n",
              "</div>"
            ],
            "text/plain": [
              "    Movie_ID  ...  Factor15\n",
              "16       122  ... -0.314937\n",
              "\n",
              "[1 rows x 17 columns]"
            ]
          },
          "metadata": {
            "tags": []
          },
          "execution_count": 21
        }
      ]
    },
    {
      "cell_type": "code",
      "metadata": {
        "colab": {
          "base_uri": "https://localhost:8080/"
        },
        "id": "R_hNjXgWS7Yv",
        "outputId": "5d3f03cd-71b1-4a5e-92d0-0137a0306530"
      },
      "source": [
        "user_row = df_users[df_users[\"User\"] == 1882].values[:,1:]\n",
        "user_row = user_row.reshape((len(user_row[0]),))\n",
        "movie_row = df_movie[df_movie[\"Movie_ID\"] == 77].values[:,2:]\n",
        "movie_row = movie_row.reshape((len(movie_row[0]),))\n",
        "np.dot(user_row, movies_row)"
      ],
      "execution_count": 34,
      "outputs": [
        {
          "output_type": "execute_result",
          "data": {
            "text/plain": [
              "0.3665920298352883"
            ]
          },
          "metadata": {
            "tags": []
          },
          "execution_count": 34
        }
      ]
    },
    {
      "cell_type": "code",
      "metadata": {
        "colab": {
          "base_uri": "https://localhost:8080/"
        },
        "id": "kLgrQpahV48n",
        "outputId": "42c6b709-6482-4df3-b227-227b0874c313"
      },
      "source": [
        "user_row = df_users[df_users[\"User\"] == 156].values[:,1:]\n",
        "user_row = user_row.reshape((len(user_row[0]),))\n",
        "movie_row = df_movie[df_movie[\"Movie_ID\"] == 2164].values[:,2:]\n",
        "movie_row = movie_row.reshape((len(movie_row[0]),))\n",
        "np.dot(user_row, movies_row)"
      ],
      "execution_count": 35,
      "outputs": [
        {
          "output_type": "execute_result",
          "data": {
            "text/plain": [
              "0.08241735216730475"
            ]
          },
          "metadata": {
            "tags": []
          },
          "execution_count": 35
        }
      ]
    },
    {
      "cell_type": "code",
      "metadata": {
        "colab": {
          "base_uri": "https://localhost:8080/"
        },
        "id": "QjUeLOVrWyjx",
        "outputId": "cb2ba16a-c6cf-455a-f2f3-e3f87387d3b5"
      },
      "source": [
        "user_row = df_users[df_users[\"User\"] == 2092].values[:,1:]\n",
        "user_row = user_row.reshape((len(user_row[0]),))\n",
        "\n",
        "ratings = []\n",
        "\n",
        "for index, row in df_movie.iterrows():\n",
        "  features = row.values[2:]\n",
        "  id = row.values[0]\n",
        "\n",
        "  result = np.dot(features, user_row)\n",
        "  ratings.append((id, result))\n",
        "\n",
        "ratings.sort(key=lambda x: x[1], reverse=True)\n",
        "print(ratings[:2])"
      ],
      "execution_count": 37,
      "outputs": [
        {
          "output_type": "stream",
          "text": [
            "[(550, 0.5627709479753903), (120, 0.4877848228883944)]\n"
          ],
          "name": "stdout"
        }
      ]
    },
    {
      "cell_type": "code",
      "metadata": {
        "colab": {
          "base_uri": "https://localhost:8080/"
        },
        "id": "HKBAIDILXIJg",
        "outputId": "fb2b2f49-ef82-4637-c361-7552bacfe387"
      },
      "source": [
        "user_row = df_users[df_users[\"User\"] == 3947].values[:,1:]\n",
        "user_row = user_row.reshape((len(user_row[0]),))\n",
        "\n",
        "ratings = []\n",
        "\n",
        "for index, row in df_movie.iterrows():\n",
        "  features = row.values[2:]\n",
        "  id = row.values[1]\n",
        "\n",
        "  result = np.dot(features, user_row)\n",
        "  ratings.append((id, result))\n",
        "\n",
        "ratings.sort(key=lambda x: x[1], reverse=True)\n",
        "print(ratings[:2])"
      ],
      "execution_count": 38,
      "outputs": [
        {
          "output_type": "stream",
          "text": [
            "[('The Matrix (1999)', 0.5822454654508445), ('The Matrix Reloaded (2003)', 0.5784134747502304)]\n"
          ],
          "name": "stdout"
        }
      ]
    }
  ]
}