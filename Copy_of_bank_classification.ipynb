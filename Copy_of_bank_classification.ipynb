{
  "nbformat": 4,
  "nbformat_minor": 0,
  "metadata": {
    "colab": {
      "name": "Copy_of_bank_classification.ipynb",
      "provenance": [],
      "collapsed_sections": [],
      "include_colab_link": true
    },
    "kernelspec": {
      "name": "python3",
      "display_name": "Python 3"
    }
  },
  "cells": [
    {
      "cell_type": "markdown",
      "metadata": {
        "id": "view-in-github",
        "colab_type": "text"
      },
      "source": [
        "<a href=\"https://colab.research.google.com/github/na2027/CE888/blob/main/Copy_of_bank_classification.ipynb\" target=\"_parent\"><img src=\"https://colab.research.google.com/assets/colab-badge.svg\" alt=\"Open In Colab\"/></a>"
      ]
    },
    {
      "cell_type": "code",
      "metadata": {
        "id": "5R4Npj8AMyKS"
      },
      "source": [
        "#importing the libraries\n",
        "import pandas as pd\n",
        "import numpy as np\n",
        "import matplotlib.pyplot as plt\n",
        "import seaborn as sns\n",
        "from sklearn import preprocessing\n",
        "from sklearn import model_selection\n",
        "from sklearn import metrics\n",
        "from sklearn.preprocessing import LabelEncoder\n",
        "%matplotlib inline\n",
        "\n",
        "import warnings\n",
        "\n",
        "warnings.filterwarnings('ignore')"
      ],
      "execution_count": 1,
      "outputs": []
    },
    {
      "cell_type": "code",
      "metadata": {
        "colab": {
          "base_uri": "https://localhost:8080/",
          "height": 224
        },
        "id": "BNeH4SPXPL9X",
        "outputId": "c2c4a36d-d386-4603-e0aa-dc38b0708da6"
      },
      "source": [
        "#load the dataset\n",
        "df_bank=pd.read_csv(\"/content/bank-additional-full.csv\",sep=';')\n",
        "df_bank.head()"
      ],
      "execution_count": 2,
      "outputs": [
        {
          "output_type": "execute_result",
          "data": {
            "text/html": [
              "<div>\n",
              "<style scoped>\n",
              "    .dataframe tbody tr th:only-of-type {\n",
              "        vertical-align: middle;\n",
              "    }\n",
              "\n",
              "    .dataframe tbody tr th {\n",
              "        vertical-align: top;\n",
              "    }\n",
              "\n",
              "    .dataframe thead th {\n",
              "        text-align: right;\n",
              "    }\n",
              "</style>\n",
              "<table border=\"1\" class=\"dataframe\">\n",
              "  <thead>\n",
              "    <tr style=\"text-align: right;\">\n",
              "      <th></th>\n",
              "      <th>age</th>\n",
              "      <th>job</th>\n",
              "      <th>marital</th>\n",
              "      <th>education</th>\n",
              "      <th>default</th>\n",
              "      <th>housing</th>\n",
              "      <th>loan</th>\n",
              "      <th>contact</th>\n",
              "      <th>month</th>\n",
              "      <th>day_of_week</th>\n",
              "      <th>duration</th>\n",
              "      <th>campaign</th>\n",
              "      <th>pdays</th>\n",
              "      <th>previous</th>\n",
              "      <th>poutcome</th>\n",
              "      <th>emp.var.rate</th>\n",
              "      <th>cons.price.idx</th>\n",
              "      <th>cons.conf.idx</th>\n",
              "      <th>euribor3m</th>\n",
              "      <th>nr.employed</th>\n",
              "      <th>y</th>\n",
              "    </tr>\n",
              "  </thead>\n",
              "  <tbody>\n",
              "    <tr>\n",
              "      <th>0</th>\n",
              "      <td>56</td>\n",
              "      <td>housemaid</td>\n",
              "      <td>married</td>\n",
              "      <td>basic.4y</td>\n",
              "      <td>no</td>\n",
              "      <td>no</td>\n",
              "      <td>no</td>\n",
              "      <td>telephone</td>\n",
              "      <td>may</td>\n",
              "      <td>mon</td>\n",
              "      <td>261</td>\n",
              "      <td>1</td>\n",
              "      <td>999</td>\n",
              "      <td>0</td>\n",
              "      <td>nonexistent</td>\n",
              "      <td>1.1</td>\n",
              "      <td>93.994</td>\n",
              "      <td>-36.4</td>\n",
              "      <td>4.857</td>\n",
              "      <td>5191.0</td>\n",
              "      <td>no</td>\n",
              "    </tr>\n",
              "    <tr>\n",
              "      <th>1</th>\n",
              "      <td>57</td>\n",
              "      <td>services</td>\n",
              "      <td>married</td>\n",
              "      <td>high.school</td>\n",
              "      <td>unknown</td>\n",
              "      <td>no</td>\n",
              "      <td>no</td>\n",
              "      <td>telephone</td>\n",
              "      <td>may</td>\n",
              "      <td>mon</td>\n",
              "      <td>149</td>\n",
              "      <td>1</td>\n",
              "      <td>999</td>\n",
              "      <td>0</td>\n",
              "      <td>nonexistent</td>\n",
              "      <td>1.1</td>\n",
              "      <td>93.994</td>\n",
              "      <td>-36.4</td>\n",
              "      <td>4.857</td>\n",
              "      <td>5191.0</td>\n",
              "      <td>no</td>\n",
              "    </tr>\n",
              "    <tr>\n",
              "      <th>2</th>\n",
              "      <td>37</td>\n",
              "      <td>services</td>\n",
              "      <td>married</td>\n",
              "      <td>high.school</td>\n",
              "      <td>no</td>\n",
              "      <td>yes</td>\n",
              "      <td>no</td>\n",
              "      <td>telephone</td>\n",
              "      <td>may</td>\n",
              "      <td>mon</td>\n",
              "      <td>226</td>\n",
              "      <td>1</td>\n",
              "      <td>999</td>\n",
              "      <td>0</td>\n",
              "      <td>nonexistent</td>\n",
              "      <td>1.1</td>\n",
              "      <td>93.994</td>\n",
              "      <td>-36.4</td>\n",
              "      <td>4.857</td>\n",
              "      <td>5191.0</td>\n",
              "      <td>no</td>\n",
              "    </tr>\n",
              "    <tr>\n",
              "      <th>3</th>\n",
              "      <td>40</td>\n",
              "      <td>admin.</td>\n",
              "      <td>married</td>\n",
              "      <td>basic.6y</td>\n",
              "      <td>no</td>\n",
              "      <td>no</td>\n",
              "      <td>no</td>\n",
              "      <td>telephone</td>\n",
              "      <td>may</td>\n",
              "      <td>mon</td>\n",
              "      <td>151</td>\n",
              "      <td>1</td>\n",
              "      <td>999</td>\n",
              "      <td>0</td>\n",
              "      <td>nonexistent</td>\n",
              "      <td>1.1</td>\n",
              "      <td>93.994</td>\n",
              "      <td>-36.4</td>\n",
              "      <td>4.857</td>\n",
              "      <td>5191.0</td>\n",
              "      <td>no</td>\n",
              "    </tr>\n",
              "    <tr>\n",
              "      <th>4</th>\n",
              "      <td>56</td>\n",
              "      <td>services</td>\n",
              "      <td>married</td>\n",
              "      <td>high.school</td>\n",
              "      <td>no</td>\n",
              "      <td>no</td>\n",
              "      <td>yes</td>\n",
              "      <td>telephone</td>\n",
              "      <td>may</td>\n",
              "      <td>mon</td>\n",
              "      <td>307</td>\n",
              "      <td>1</td>\n",
              "      <td>999</td>\n",
              "      <td>0</td>\n",
              "      <td>nonexistent</td>\n",
              "      <td>1.1</td>\n",
              "      <td>93.994</td>\n",
              "      <td>-36.4</td>\n",
              "      <td>4.857</td>\n",
              "      <td>5191.0</td>\n",
              "      <td>no</td>\n",
              "    </tr>\n",
              "  </tbody>\n",
              "</table>\n",
              "</div>"
            ],
            "text/plain": [
              "   age        job  marital  ... euribor3m nr.employed   y\n",
              "0   56  housemaid  married  ...     4.857      5191.0  no\n",
              "1   57   services  married  ...     4.857      5191.0  no\n",
              "2   37   services  married  ...     4.857      5191.0  no\n",
              "3   40     admin.  married  ...     4.857      5191.0  no\n",
              "4   56   services  married  ...     4.857      5191.0  no\n",
              "\n",
              "[5 rows x 21 columns]"
            ]
          },
          "metadata": {
            "tags": []
          },
          "execution_count": 2
        }
      ]
    },
    {
      "cell_type": "code",
      "metadata": {
        "id": "IMbJgVv3SHro",
        "colab": {
          "base_uri": "https://localhost:8080/"
        },
        "outputId": "b0bc096b-3251-43ed-ebcb-4e8f2a94751d"
      },
      "source": [
        "df_bank.info()"
      ],
      "execution_count": 3,
      "outputs": [
        {
          "output_type": "stream",
          "text": [
            "<class 'pandas.core.frame.DataFrame'>\n",
            "RangeIndex: 41188 entries, 0 to 41187\n",
            "Data columns (total 21 columns):\n",
            " #   Column          Non-Null Count  Dtype  \n",
            "---  ------          --------------  -----  \n",
            " 0   age             41188 non-null  int64  \n",
            " 1   job             41188 non-null  object \n",
            " 2   marital         41188 non-null  object \n",
            " 3   education       41188 non-null  object \n",
            " 4   default         41188 non-null  object \n",
            " 5   housing         41188 non-null  object \n",
            " 6   loan            41188 non-null  object \n",
            " 7   contact         41188 non-null  object \n",
            " 8   month           41188 non-null  object \n",
            " 9   day_of_week     41188 non-null  object \n",
            " 10  duration        41188 non-null  int64  \n",
            " 11  campaign        41188 non-null  int64  \n",
            " 12  pdays           41188 non-null  int64  \n",
            " 13  previous        41188 non-null  int64  \n",
            " 14  poutcome        41188 non-null  object \n",
            " 15  emp.var.rate    41188 non-null  float64\n",
            " 16  cons.price.idx  41188 non-null  float64\n",
            " 17  cons.conf.idx   41188 non-null  float64\n",
            " 18  euribor3m       41188 non-null  float64\n",
            " 19  nr.employed     41188 non-null  float64\n",
            " 20  y               41188 non-null  object \n",
            "dtypes: float64(5), int64(5), object(11)\n",
            "memory usage: 6.6+ MB\n"
          ],
          "name": "stdout"
        }
      ]
    },
    {
      "cell_type": "code",
      "metadata": {
        "id": "wVP0n4PgPWRV",
        "colab": {
          "base_uri": "https://localhost:8080/"
        },
        "outputId": "a3d6bb19-4c80-421c-ec4c-984290c9b00a"
      },
      "source": [
        "df_bank.isnull().values.any().sum()"
      ],
      "execution_count": 31,
      "outputs": [
        {
          "output_type": "execute_result",
          "data": {
            "text/plain": [
              "0"
            ]
          },
          "metadata": {
            "tags": []
          },
          "execution_count": 31
        }
      ]
    },
    {
      "cell_type": "code",
      "metadata": {
        "id": "6j-CsHvT4FCj"
      },
      "source": [
        "df_bank = df_bank.dropna()"
      ],
      "execution_count": 5,
      "outputs": []
    },
    {
      "cell_type": "code",
      "metadata": {
        "id": "GkoJd5mM4K8l",
        "colab": {
          "base_uri": "https://localhost:8080/"
        },
        "outputId": "5f86a3ab-9a74-43d9-8ee0-7e18ca519d2a"
      },
      "source": [
        "df_bank.info()"
      ],
      "execution_count": 6,
      "outputs": [
        {
          "output_type": "stream",
          "text": [
            "<class 'pandas.core.frame.DataFrame'>\n",
            "Int64Index: 41188 entries, 0 to 41187\n",
            "Data columns (total 21 columns):\n",
            " #   Column          Non-Null Count  Dtype  \n",
            "---  ------          --------------  -----  \n",
            " 0   age             41188 non-null  int64  \n",
            " 1   job             41188 non-null  object \n",
            " 2   marital         41188 non-null  object \n",
            " 3   education       41188 non-null  object \n",
            " 4   default         41188 non-null  object \n",
            " 5   housing         41188 non-null  object \n",
            " 6   loan            41188 non-null  object \n",
            " 7   contact         41188 non-null  object \n",
            " 8   month           41188 non-null  object \n",
            " 9   day_of_week     41188 non-null  object \n",
            " 10  duration        41188 non-null  int64  \n",
            " 11  campaign        41188 non-null  int64  \n",
            " 12  pdays           41188 non-null  int64  \n",
            " 13  previous        41188 non-null  int64  \n",
            " 14  poutcome        41188 non-null  object \n",
            " 15  emp.var.rate    41188 non-null  float64\n",
            " 16  cons.price.idx  41188 non-null  float64\n",
            " 17  cons.conf.idx   41188 non-null  float64\n",
            " 18  euribor3m       41188 non-null  float64\n",
            " 19  nr.employed     41188 non-null  float64\n",
            " 20  y               41188 non-null  object \n",
            "dtypes: float64(5), int64(5), object(11)\n",
            "memory usage: 6.9+ MB\n"
          ],
          "name": "stdout"
        }
      ]
    },
    {
      "cell_type": "markdown",
      "metadata": {
        "id": "4D_a2k4jSTjE"
      },
      "source": [
        "**Exploratory Analysis:**\n",
        "First we will explore the Categorical Variables:\n"
      ]
    },
    {
      "cell_type": "code",
      "metadata": {
        "colab": {
          "base_uri": "https://localhost:8080/"
        },
        "id": "PlSY8ru3S0wp",
        "outputId": "3dcabd44-08c5-41ba-bb58-272b086f0d62"
      },
      "source": [
        "# find categorical feautres from the given dataset.\n",
        "\n",
        "cat_features = [var for var in df_bank.columns if df_bank[var].dtype=='O']\n",
        "\n",
        "print('There are {} categorical features\\n'.format(len(cat_features)))\n",
        "\n",
        "print('The categorical features are :', cat_features)"
      ],
      "execution_count": 7,
      "outputs": [
        {
          "output_type": "stream",
          "text": [
            "There are 11 categorical features\n",
            "\n",
            "The categorical features are : ['job', 'marital', 'education', 'default', 'housing', 'loan', 'contact', 'month', 'day_of_week', 'poutcome', 'y']\n"
          ],
          "name": "stdout"
        }
      ]
    },
    {
      "cell_type": "code",
      "metadata": {
        "id": "X2x7rpbj2Vod",
        "colab": {
          "base_uri": "https://localhost:8080/"
        },
        "outputId": "bc47071b-779a-46c9-e23f-e946dd01179f"
      },
      "source": [
        "# find numerical feautres from the given dataset.\n",
        "\n",
        "num_features = [var for var in df_bank.columns if df_bank[var].dtype!='O']\n",
        "\n",
        "print('There are {} numerical features\\n'.format(len(num_features)))"
      ],
      "execution_count": 9,
      "outputs": [
        {
          "output_type": "stream",
          "text": [
            "There are 10 numerical features\n",
            "\n"
          ],
          "name": "stdout"
        }
      ]
    },
    {
      "cell_type": "code",
      "metadata": {
        "colab": {
          "base_uri": "https://localhost:8080/"
        },
        "id": "Tnlj8hypUezh",
        "outputId": "ce17ceb5-91da-4356-da5d-4007254d7728"
      },
      "source": [
        "df_bank[cat_features].isnull().sum()"
      ],
      "execution_count": 10,
      "outputs": [
        {
          "output_type": "execute_result",
          "data": {
            "text/plain": [
              "job            0\n",
              "marital        0\n",
              "education      0\n",
              "default        0\n",
              "housing        0\n",
              "loan           0\n",
              "contact        0\n",
              "month          0\n",
              "day_of_week    0\n",
              "poutcome       0\n",
              "y              0\n",
              "dtype: int64"
            ]
          },
          "metadata": {
            "tags": []
          },
          "execution_count": 10
        }
      ]
    },
    {
      "cell_type": "code",
      "metadata": {
        "colab": {
          "base_uri": "https://localhost:8080/",
          "height": 517
        },
        "id": "gRew6K2KYRGv",
        "outputId": "c860a80f-b758-4f82-d09e-32fb1e1d66ed"
      },
      "source": [
        "print(df_bank.job.value_counts())\n",
        "sns.countplot(y='job', data=df_bank)"
      ],
      "execution_count": 11,
      "outputs": [
        {
          "output_type": "stream",
          "text": [
            "admin.           10422\n",
            "blue-collar       9254\n",
            "technician        6743\n",
            "services          3969\n",
            "management        2924\n",
            "retired           1720\n",
            "entrepreneur      1456\n",
            "self-employed     1421\n",
            "housemaid         1060\n",
            "unemployed        1014\n",
            "student            875\n",
            "unknown            330\n",
            "Name: job, dtype: int64\n"
          ],
          "name": "stdout"
        },
        {
          "output_type": "execute_result",
          "data": {
            "text/plain": [
              "<matplotlib.axes._subplots.AxesSubplot at 0x7f97bc091050>"
            ]
          },
          "metadata": {
            "tags": []
          },
          "execution_count": 11
        },
        {
          "output_type": "display_data",
          "data": {
            "image/png": "[encoded data removed]",
            "text/plain": [
              "<Figure size 432x288 with 1 Axes>"
            ]
          },
          "metadata": {
            "tags": [],
            "needs_background": "light"
          }
        }
      ]
    },
    {
      "cell_type": "code",
      "metadata": {
        "colab": {
          "base_uri": "https://localhost:8080/",
          "height": 381
        },
        "id": "Zj_m6JAOY16R",
        "outputId": "60eca266-47ef-41dd-8f17-716a2ffe1692"
      },
      "source": [
        "print(df_bank.marital.value_counts())\n",
        "sns.countplot(x='marital', data=df_bank)"
      ],
      "execution_count": null,
      "outputs": [
        {
          "output_type": "stream",
          "text": [
            "married     24928\n",
            "single      11568\n",
            "divorced     4612\n",
            "unknown        80\n",
            "Name: marital, dtype: int64\n"
          ],
          "name": "stdout"
        },
        {
          "output_type": "execute_result",
          "data": {
            "text/plain": [
              "<matplotlib.axes._subplots.AxesSubplot at 0x7f0c56f2eb50>"
            ]
          },
          "metadata": {
            "tags": []
          },
          "execution_count": 12
        },
        {
          "output_type": "display_data",
          "data": {
            "image/png": "[encoded data removed]",
            "text/plain": [
              "<Figure size 432x288 with 1 Axes>"
            ]
          },
          "metadata": {
            "tags": [],
            "needs_background": "light"
          }
        }
      ]
    },
    {
      "cell_type": "code",
      "metadata": {
        "colab": {
          "base_uri": "https://localhost:8080/",
          "height": 449
        },
        "id": "XWEFokW7ZbCW",
        "outputId": "1b7b1557-8d60-44fd-a2d4-8fbe9150bc18"
      },
      "source": [
        "print(df_bank.education.value_counts())\n",
        "sns.countplot(x='education', data=df_bank)"
      ],
      "execution_count": null,
      "outputs": [
        {
          "output_type": "stream",
          "text": [
            "university.degree      12168\n",
            "high.school             9515\n",
            "basic.9y                6045\n",
            "professional.course     5243\n",
            "basic.4y                4176\n",
            "basic.6y                2292\n",
            "unknown                 1731\n",
            "illiterate                18\n",
            "Name: education, dtype: int64\n"
          ],
          "name": "stdout"
        },
        {
          "output_type": "execute_result",
          "data": {
            "text/plain": [
              "<matplotlib.axes._subplots.AxesSubplot at 0x7f0c56945b50>"
            ]
          },
          "metadata": {
            "tags": []
          },
          "execution_count": 13
        },
        {
          "output_type": "display_data",
          "data": {
            "image/png": "[encoded data removed]",
            "text/plain": [
              "<Figure size 432x288 with 1 Axes>"
            ]
          },
          "metadata": {
            "tags": [],
            "needs_background": "light"
          }
        }
      ]
    },
    {
      "cell_type": "code",
      "metadata": {
        "colab": {
          "base_uri": "https://localhost:8080/"
        },
        "id": "JNM_Ran9Z18F",
        "outputId": "cc979b69-0f9d-4f2b-a786-9105e86e180f"
      },
      "source": [
        "y_valus ={'yes' : 1, 'no' : 0}\n",
        "df_bank['y'] = df_bank['y'].map(lambda x: y_valus[x])\n",
        "df_bank['y'].value_counts()"
      ],
      "execution_count": null,
      "outputs": [
        {
          "output_type": "execute_result",
          "data": {
            "text/plain": [
              "0    36548\n",
              "1     4640\n",
              "Name: y, dtype: int64"
            ]
          },
          "metadata": {
            "tags": []
          },
          "execution_count": 14
        }
      ]
    },
    {
      "cell_type": "code",
      "metadata": {
        "id": "7hCxXquZiwne",
        "colab": {
          "base_uri": "https://localhost:8080/"
        },
        "outputId": "683e1253-11b9-4176-99b7-cda525018ed1"
      },
      "source": [
        "df_bank.info()"
      ],
      "execution_count": null,
      "outputs": [
        {
          "output_type": "stream",
          "text": [
            "<class 'pandas.core.frame.DataFrame'>\n",
            "Int64Index: 41188 entries, 0 to 41187\n",
            "Data columns (total 21 columns):\n",
            " #   Column          Non-Null Count  Dtype  \n",
            "---  ------          --------------  -----  \n",
            " 0   age             41188 non-null  int64  \n",
            " 1   job             41188 non-null  object \n",
            " 2   marital         41188 non-null  object \n",
            " 3   education       41188 non-null  object \n",
            " 4   default         41188 non-null  object \n",
            " 5   housing         41188 non-null  object \n",
            " 6   loan            41188 non-null  object \n",
            " 7   contact         41188 non-null  object \n",
            " 8   month           41188 non-null  object \n",
            " 9   day_of_week     41188 non-null  object \n",
            " 10  duration        41188 non-null  int64  \n",
            " 11  campaign        41188 non-null  int64  \n",
            " 12  pdays           41188 non-null  int64  \n",
            " 13  previous        41188 non-null  int64  \n",
            " 14  poutcome        41188 non-null  object \n",
            " 15  emp.var.rate    41188 non-null  float64\n",
            " 16  cons.price.idx  41188 non-null  float64\n",
            " 17  cons.conf.idx   41188 non-null  float64\n",
            " 18  euribor3m       41188 non-null  float64\n",
            " 19  nr.employed     41188 non-null  float64\n",
            " 20  y               41188 non-null  int64  \n",
            "dtypes: float64(5), int64(6), object(10)\n",
            "memory usage: 8.2+ MB\n"
          ],
          "name": "stdout"
        }
      ]
    },
    {
      "cell_type": "code",
      "metadata": {
        "colab": {
          "base_uri": "https://localhost:8080/"
        },
        "id": "peq-dGvobCxr",
        "outputId": "f6a2b598-fb39-42f7-92a1-e0abd4e0f3a4"
      },
      "source": [
        "df_bank.shape"
      ],
      "execution_count": 12,
      "outputs": [
        {
          "output_type": "execute_result",
          "data": {
            "text/plain": [
              "(41188, 21)"
            ]
          },
          "metadata": {
            "tags": []
          },
          "execution_count": 12
        }
      ]
    },
    {
      "cell_type": "code",
      "metadata": {
        "id": "74QhMjsTmdMs"
      },
      "source": [
        "#We will take out those column which will affect more to our model\n",
        "feature_columns=['job','education', 'default', 'housing', 'loan',\n",
        "           'month', 'day_of_week', 'pdays', 'duration',\n",
        "       'previous', 'poutcome', 'emp.var.rate', 'cons.price.idx',\n",
        "       'cons.conf.idx', 'euribor3m','y']"
      ],
      "execution_count": 13,
      "outputs": []
    },
    {
      "cell_type": "code",
      "metadata": {
        "id": "ZE4bVMDxm3c3"
      },
      "source": [
        "#Encode the categorical data\n",
        "for col in df_bank.columns:\n",
        "    if df_bank[col].dtype==object:\n",
        "           df_bank[col]=df_bank[col].astype('category')\n",
        "           df_bank[col]=df_bank[col].cat.codes"
      ],
      "execution_count": 14,
      "outputs": []
    },
    {
      "cell_type": "code",
      "metadata": {
        "id": "vWuoDl_0nFpj",
        "colab": {
          "base_uri": "https://localhost:8080/",
          "height": 224
        },
        "outputId": "7a213053-40ea-40c5-bfcd-53ed162469e3"
      },
      "source": [
        "df_bank[feature_columns].head()"
      ],
      "execution_count": 15,
      "outputs": [
        {
          "output_type": "execute_result",
          "data": {
            "text/html": [
              "<div>\n",
              "<style scoped>\n",
              "    .dataframe tbody tr th:only-of-type {\n",
              "        vertical-align: middle;\n",
              "    }\n",
              "\n",
              "    .dataframe tbody tr th {\n",
              "        vertical-align: top;\n",
              "    }\n",
              "\n",
              "    .dataframe thead th {\n",
              "        text-align: right;\n",
              "    }\n",
              "</style>\n",
              "<table border=\"1\" class=\"dataframe\">\n",
              "  <thead>\n",
              "    <tr style=\"text-align: right;\">\n",
              "      <th></th>\n",
              "      <th>job</th>\n",
              "      <th>education</th>\n",
              "      <th>default</th>\n",
              "      <th>housing</th>\n",
              "      <th>loan</th>\n",
              "      <th>month</th>\n",
              "      <th>day_of_week</th>\n",
              "      <th>pdays</th>\n",
              "      <th>duration</th>\n",
              "      <th>previous</th>\n",
              "      <th>poutcome</th>\n",
              "      <th>emp.var.rate</th>\n",
              "      <th>cons.price.idx</th>\n",
              "      <th>cons.conf.idx</th>\n",
              "      <th>euribor3m</th>\n",
              "      <th>y</th>\n",
              "    </tr>\n",
              "  </thead>\n",
              "  <tbody>\n",
              "    <tr>\n",
              "      <th>0</th>\n",
              "      <td>3</td>\n",
              "      <td>0</td>\n",
              "      <td>0</td>\n",
              "      <td>0</td>\n",
              "      <td>0</td>\n",
              "      <td>6</td>\n",
              "      <td>1</td>\n",
              "      <td>999</td>\n",
              "      <td>261</td>\n",
              "      <td>0</td>\n",
              "      <td>1</td>\n",
              "      <td>1.1</td>\n",
              "      <td>93.994</td>\n",
              "      <td>-36.4</td>\n",
              "      <td>4.857</td>\n",
              "      <td>0</td>\n",
              "    </tr>\n",
              "    <tr>\n",
              "      <th>1</th>\n",
              "      <td>7</td>\n",
              "      <td>3</td>\n",
              "      <td>1</td>\n",
              "      <td>0</td>\n",
              "      <td>0</td>\n",
              "      <td>6</td>\n",
              "      <td>1</td>\n",
              "      <td>999</td>\n",
              "      <td>149</td>\n",
              "      <td>0</td>\n",
              "      <td>1</td>\n",
              "      <td>1.1</td>\n",
              "      <td>93.994</td>\n",
              "      <td>-36.4</td>\n",
              "      <td>4.857</td>\n",
              "      <td>0</td>\n",
              "    </tr>\n",
              "    <tr>\n",
              "      <th>2</th>\n",
              "      <td>7</td>\n",
              "      <td>3</td>\n",
              "      <td>0</td>\n",
              "      <td>2</td>\n",
              "      <td>0</td>\n",
              "      <td>6</td>\n",
              "      <td>1</td>\n",
              "      <td>999</td>\n",
              "      <td>226</td>\n",
              "      <td>0</td>\n",
              "      <td>1</td>\n",
              "      <td>1.1</td>\n",
              "      <td>93.994</td>\n",
              "      <td>-36.4</td>\n",
              "      <td>4.857</td>\n",
              "      <td>0</td>\n",
              "    </tr>\n",
              "    <tr>\n",
              "      <th>3</th>\n",
              "      <td>0</td>\n",
              "      <td>1</td>\n",
              "      <td>0</td>\n",
              "      <td>0</td>\n",
              "      <td>0</td>\n",
              "      <td>6</td>\n",
              "      <td>1</td>\n",
              "      <td>999</td>\n",
              "      <td>151</td>\n",
              "      <td>0</td>\n",
              "      <td>1</td>\n",
              "      <td>1.1</td>\n",
              "      <td>93.994</td>\n",
              "      <td>-36.4</td>\n",
              "      <td>4.857</td>\n",
              "      <td>0</td>\n",
              "    </tr>\n",
              "    <tr>\n",
              "      <th>4</th>\n",
              "      <td>7</td>\n",
              "      <td>3</td>\n",
              "      <td>0</td>\n",
              "      <td>0</td>\n",
              "      <td>2</td>\n",
              "      <td>6</td>\n",
              "      <td>1</td>\n",
              "      <td>999</td>\n",
              "      <td>307</td>\n",
              "      <td>0</td>\n",
              "      <td>1</td>\n",
              "      <td>1.1</td>\n",
              "      <td>93.994</td>\n",
              "      <td>-36.4</td>\n",
              "      <td>4.857</td>\n",
              "      <td>0</td>\n",
              "    </tr>\n",
              "  </tbody>\n",
              "</table>\n",
              "</div>"
            ],
            "text/plain": [
              "   job  education  default  ...  cons.conf.idx  euribor3m  y\n",
              "0    3          0        0  ...          -36.4      4.857  0\n",
              "1    7          3        1  ...          -36.4      4.857  0\n",
              "2    7          3        0  ...          -36.4      4.857  0\n",
              "3    0          1        0  ...          -36.4      4.857  0\n",
              "4    7          3        0  ...          -36.4      4.857  0\n",
              "\n",
              "[5 rows x 16 columns]"
            ]
          },
          "metadata": {
            "tags": []
          },
          "execution_count": 15
        }
      ]
    },
    {
      "cell_type": "code",
      "metadata": {
        "id": "ptIFtH2tpjh1",
        "colab": {
          "base_uri": "https://localhost:8080/"
        },
        "outputId": "dc891513-f96a-49d5-e4ba-42aa1c5899c8"
      },
      "source": [
        "# Before moving ahead we need to normalize the data or scale the given dataset\n",
        "import scipy\n",
        "import numpy\n",
        "from sklearn.preprocessing import MinMaxScaler\n",
        "\n",
        "df_bank_feature_columns=df_bank[feature_columns]\n",
        "feature_array = df_bank_feature_columns.values\n",
        "# separate array into features and target columns\n",
        "X = feature_array[:,0:15]\n",
        "Y = feature_array[:,15]\n",
        "scaler = MinMaxScaler(feature_range=(0, 1))\n",
        "\n",
        "rescale_X = scaler.fit_transform(X)\n",
        "# let's display the transformed data\n",
        "numpy.set_printoptions(precision=3)\n",
        "print(rescale_X[0:5,:])"
      ],
      "execution_count": 16,
      "outputs": [
        {
          "output_type": "stream",
          "text": [
            "[[0.273 0.    0.    0.    0.    0.667 0.25  1.    0.053 0.    0.5   0.938\n",
            "  0.699 0.603 0.957]\n",
            " [0.636 0.429 0.5   0.    0.    0.667 0.25  1.    0.03  0.    0.5   0.938\n",
            "  0.699 0.603 0.957]\n",
            " [0.636 0.429 0.    1.    0.    0.667 0.25  1.    0.046 0.    0.5   0.938\n",
            "  0.699 0.603 0.957]\n",
            " [0.    0.143 0.    0.    0.    0.667 0.25  1.    0.031 0.    0.5   0.938\n",
            "  0.699 0.603 0.957]\n",
            " [0.636 0.429 0.    0.    1.    0.667 0.25  1.    0.062 0.    0.5   0.938\n",
            "  0.699 0.603 0.957]]\n"
          ],
          "name": "stdout"
        }
      ]
    },
    {
      "cell_type": "code",
      "metadata": {
        "id": "bnJbmQWFqBsc",
        "colab": {
          "base_uri": "https://localhost:8080/"
        },
        "outputId": "a5cf7087-bb32-46d4-af58-2a6d8e40a48c"
      },
      "source": [
        "# Random Forest Classification\n",
        "from pandas import read_csv\n",
        "from sklearn.model_selection import KFold\n",
        "from sklearn.model_selection import cross_val_score\n",
        "from sklearn.ensemble import RandomForestClassifier\n",
        "from sklearn.model_selection import train_test_split\n",
        "X = df_bank_feature_columns.iloc[:,0:15]\n",
        "Y = df_bank_feature_columns.iloc[:,15]\n",
        "# split data into train and test sets\n",
        "test_size = 0.20\n",
        "X_train, X_test, y_train, y_test = train_test_split(X, Y, test_size=test_size, random_state=50)\n",
        "rf = RandomForestClassifier(max_depth = 6, n_estimators = 400)  \n",
        "#fitting the model\n",
        "model = rf.fit(X_train, y_train)\n",
        "\n",
        "# Let's find which feature is important\n",
        "total_feature_importance = model.feature_importances_.tolist()\n",
        "feature_importance = [round(val * 100.0, 2) for val in total_feature_importance]\n",
        "print(zip(df_bank_feature_columns.columns, feature_importance))"
      ],
      "execution_count": 17,
      "outputs": [
        {
          "output_type": "stream",
          "text": [
            "<zip object at 0x7f97baaece10>\n"
          ],
          "name": "stdout"
        }
      ]
    },
    {
      "cell_type": "code",
      "metadata": {
        "id": "OH1PI5aSqSY6",
        "colab": {
          "base_uri": "https://localhost:8080/"
        },
        "outputId": "b1ef2577-04fd-491a-ad54-b4c2f4cc65a9"
      },
      "source": [
        "#Getting the score of feature matrix and its target values \n",
        "model.score(X_test,y_test)"
      ],
      "execution_count": 18,
      "outputs": [
        {
          "output_type": "execute_result",
          "data": {
            "text/plain": [
              "0.9058023792182569"
            ]
          },
          "metadata": {
            "tags": []
          },
          "execution_count": 18
        }
      ]
    },
    {
      "cell_type": "code",
      "metadata": {
        "id": "fEMDNIn8qXmx",
        "colab": {
          "base_uri": "https://localhost:8080/"
        },
        "outputId": "bfed0890-775b-49d0-91d0-08b62651afdd"
      },
      "source": [
        "#lab quiz question\n",
        "from sklearn.metrics import classification_report\n",
        "# Model Prediction \n",
        "predicted_values = model.predict(X_test)\n",
        "#Print the classification report\n",
        "print(classification_report(y_true =y_test,y_pred = predicted_values))"
      ],
      "execution_count": 19,
      "outputs": [
        {
          "output_type": "stream",
          "text": [
            "              precision    recall  f1-score   support\n",
            "\n",
            "           0       0.91      0.99      0.95      7304\n",
            "           1       0.77      0.24      0.37       934\n",
            "\n",
            "    accuracy                           0.91      8238\n",
            "   macro avg       0.84      0.62      0.66      8238\n",
            "weighted avg       0.89      0.91      0.88      8238\n",
            "\n"
          ],
          "name": "stdout"
        }
      ]
    },
    {
      "cell_type": "code",
      "metadata": {
        "id": "F6xEPUM2uh78"
      },
      "source": [
        "# split data into train and test sets\n",
        "test_size = 0.20\n",
        "X_train1, X_test1, y_train1, y_test1 = train_test_split(X, Y, test_size=test_size,random_state = 50)\n",
        "rf_400 = RandomForestClassifier(max_depth = 6, n_estimators = 400)  \n",
        "#fitting the model\n",
        "model = rf_400.fit(X_train1, y_train1)\n"
      ],
      "execution_count": 23,
      "outputs": []
    },
    {
      "cell_type": "code",
      "metadata": {
        "id": "tV1-M0akhN1a",
        "colab": {
          "base_uri": "https://localhost:8080/"
        },
        "outputId": "4d32636d-1ea0-4d49-e2ea-31cff0c86338"
      },
      "source": [
        "from sklearn.model_selection import cross_val_predict\n",
        "from sklearn.model_selection import cross_val_score\n",
        "from sklearn import metrics\n",
        "\n",
        "# KFold cross validation\n",
        "cv = KFold(n_splits=10)\n",
        "\n",
        "print(cross_val_score(rf_400, X_train1, y_train1, cv = cv,scoring=\"f1\"))\n",
        "\n",
        "mean_score = cross_val_score(rf_400, X_train1, y_train1, cv = cv, scoring=\"f1\").mean()\n",
        "round(mean_score,2)"
      ],
      "execution_count": 33,
      "outputs": [
        {
          "output_type": "stream",
          "text": [
            "[0.46  0.438 0.473 0.46  0.464 0.487 0.434 0.486 0.477 0.483]\n"
          ],
          "name": "stdout"
        },
        {
          "output_type": "execute_result",
          "data": {
            "text/plain": [
              "0.47"
            ]
          },
          "metadata": {
            "tags": []
          },
          "execution_count": 33
        }
      ]
    },
    {
      "cell_type": "code",
      "metadata": {
        "id": "XKcJ3g4blpTF"
      },
      "source": [
        "# split data into train and test sets\n",
        "test_size = 0.20\n",
        "X_train2, X_test2, y_train2, y_test2 = train_test_split(X, Y, test_size=test_size,random_state = 50)\n",
        "rf_300 = RandomForestClassifier(max_depth = 6, n_estimators = 300)  \n",
        "#fitting the model\n",
        "model = rf_300.fit(X_train2, y_train2)\n"
      ],
      "execution_count": 25,
      "outputs": []
    },
    {
      "cell_type": "code",
      "metadata": {
        "id": "C3NKlP1dlSRw",
        "colab": {
          "base_uri": "https://localhost:8080/"
        },
        "outputId": "02e9926f-3904-499a-db13-854348915f0a"
      },
      "source": [
        "# KFold cross validation\n",
        "cv = KFold(n_splits=10)\n",
        "\n",
        "print(cross_val_score(rf_300, X_train2, y_train2, cv = cv,scoring=\"f1\"))\n",
        "\n",
        "mean_score = cross_val_score(rf_300, X_train2, y_train2, cv = cv, scoring=\"f1\").mean()\n",
        "mean_score"
      ],
      "execution_count": 26,
      "outputs": [
        {
          "output_type": "stream",
          "text": [
            "[0.355 0.326 0.349 0.359 0.351 0.387 0.366 0.404 0.343 0.393]\n"
          ],
          "name": "stdout"
        },
        {
          "output_type": "execute_result",
          "data": {
            "text/plain": [
              "0.36610075359954364"
            ]
          },
          "metadata": {
            "tags": []
          },
          "execution_count": 26
        }
      ]
    },
    {
      "cell_type": "code",
      "metadata": {
        "id": "UAm8I90vzMdL"
      },
      "source": [
        "# split data into train and test sets\n",
        "test_size = 0.20\n",
        "X_train3, X_test3, y_train3, y_test3 = train_test_split(X, Y, test_size=test_size,random_state = 60)\n",
        "rf_100 = RandomForestClassifier(max_depth = 8, n_estimators = 100)  \n",
        "#fitting the model\n",
        "model = rf_100.fit(X_train3, y_train3)\n",
        "\n",
        "\n"
      ],
      "execution_count": 27,
      "outputs": []
    },
    {
      "cell_type": "code",
      "metadata": {
        "id": "bZnUq7F0UWxT",
        "outputId": "caa2e72d-3ac6-4abe-b769-10b7c6847ddd",
        "colab": {
          "base_uri": "https://localhost:8080/"
        }
      },
      "source": [
        "# KFold cross validation\n",
        "cv = KFold(n_splits=10)\n",
        "\n",
        "print(cross_val_score(rf_100, X_train2, y_train2, cv = cv,scoring=\"f1\"))\n",
        "\n",
        "mean_score3 = cross_val_score(rf_100, X_train3, y_train3, cv = cv, scoring=\"f1\").mean()\n",
        "mean_score3"
      ],
      "execution_count": 28,
      "outputs": [
        {
          "output_type": "stream",
          "text": [
            "[0.451 0.435 0.459 0.436 0.46  0.45  0.477 0.483 0.471 0.492]\n"
          ],
          "name": "stdout"
        },
        {
          "output_type": "execute_result",
          "data": {
            "text/plain": [
              "0.4700768879578171"
            ]
          },
          "metadata": {
            "tags": []
          },
          "execution_count": 28
        }
      ]
    },
    {
      "cell_type": "code",
      "metadata": {
        "id": "g7O1LRyWUre3"
      },
      "source": [
        "# split data into train and test sets\n",
        "test_size = 0.20\n",
        "X_train4, X_test4, y_train4, y_test4 = train_test_split(X, Y, test_size=test_size,random_state = 50)\n",
        "rf_400 = RandomForestClassifier(max_depth = 8, n_estimators = 400,random_state = 60)  \n",
        "#fitting the model\n",
        "#fitting the model\n",
        "model = rf_400.fit(X_train4, y_train4)"
      ],
      "execution_count": 29,
      "outputs": []
    },
    {
      "cell_type": "code",
      "metadata": {
        "id": "x1xJ4N2UVNWJ",
        "outputId": "8956e84a-9f9e-41a0-d596-e17a71b8807e",
        "colab": {
          "base_uri": "https://localhost:8080/"
        }
      },
      "source": [
        "# KFold cross validation\n",
        "cv = KFold(n_splits=10)\n",
        "\n",
        "print(cross_val_score(rf_400, X_train4, y_train4, cv = cv,scoring=\"f1\"))\n",
        "\n",
        "mean_score4 = cross_val_score(rf_400, X_train4, y_train4, cv = cv, scoring=\"f1\").mean()\n",
        "mean_score4"
      ],
      "execution_count": 30,
      "outputs": [
        {
          "output_type": "stream",
          "text": [
            "[0.46  0.438 0.473 0.46  0.464 0.487 0.434 0.486 0.477 0.483]\n"
          ],
          "name": "stdout"
        },
        {
          "output_type": "execute_result",
          "data": {
            "text/plain": [
              "0.46632472801617625"
            ]
          },
          "metadata": {
            "tags": []
          },
          "execution_count": 30
        }
      ]
    },
    {
      "cell_type": "code",
      "metadata": {
        "id": "0nc43LNWVAp3",
        "colab": {
          "base_uri": "https://localhost:8080/"
        },
        "outputId": "599523fc-8963-4e22-ed67-ed8e24c7c360"
      },
      "source": [
        "features = df_bank.columns\n",
        "importances = model.feature_importances_\n",
        "std = np.std([tree.feature_importances_ for tree in model.estimators_],\n",
        "             axis=0)\n",
        "indices = np.argsort(importances)[::-1]\n",
        "print(indices)\n",
        "# Print the feature ranking\n",
        "print(\"Feature ranking:\")\n",
        "\n",
        "for f in range(X.shape[1]):\n",
        "    print(\"%d. %s (%f)\" % (f + 1, features[indices[f]],  importances[indices[f]]))"
      ],
      "execution_count": 32,
      "outputs": [
        {
          "output_type": "stream",
          "text": [
            "[ 8 14  7 10 11 13 12  5  9  6  0  1  2  3  4]\n",
            "Feature ranking:\n",
            "1. month (0.396254)\n",
            "2. poutcome (0.179012)\n",
            "3. contact (0.083000)\n",
            "4. duration (0.068320)\n",
            "5. campaign (0.067816)\n",
            "6. previous (0.065212)\n",
            "7. pdays (0.049017)\n",
            "8. housing (0.028140)\n",
            "9. day_of_week (0.014652)\n",
            "10. loan (0.012423)\n",
            "11. age (0.011936)\n",
            "12. job (0.011739)\n",
            "13. marital (0.004781)\n",
            "14. education (0.003882)\n",
            "15. default (0.003817)\n"
          ],
          "name": "stdout"
        }
      ]
    }
  ]
}